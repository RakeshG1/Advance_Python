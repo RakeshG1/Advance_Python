{
 "cells": [
  {
   "cell_type": "markdown",
   "metadata": {},
   "source": [
    "#### About Decorators\n",
    "- In short, it is a design pattern, which can have some resposnibilities and can be used this responsibilities/functionalities into another function.\n",
    "- `Reference Link`\n",
    "    - `https://www.tutorialsteacher.com/python/staticmethod-decorator`"
   ]
  },
  {
   "cell_type": "markdown",
   "metadata": {},
   "source": [
    "#### Without Decorator\n",
    "- Accessing One Function functionalities into another function\n",
    "- Here, fruitDecorator() extends functionalities of color(), without modifying it"
   ]
  },
  {
   "cell_type": "code",
   "execution_count": 3,
   "metadata": {},
   "outputs": [
    {
     "name": "stdout",
     "output_type": "stream",
     "text": [
      "FruitName : XXX,  ColorName : XXX\n"
     ]
    }
   ],
   "source": [
    "def color():\n",
    "    print(\"ColorName : XXX\")\n",
    "\n",
    "def fruitDecorator(func):\n",
    "    print(\"FruitName : XXX, \", end = \" \")\n",
    "    func()\n",
    "\n",
    "fruitDecorator(color)"
   ]
  },
  {
   "cell_type": "markdown",
   "metadata": {},
   "source": [
    "#### With Custom Decorator\n",
    "- `fruitDecorator`custom decorator has some functionality, whenever a function has this custom decorator tag\n",
    "- Then this custom decorator functionalities get called or activated along with this function"
   ]
  },
  {
   "cell_type": "code",
   "execution_count": 8,
   "metadata": {},
   "outputs": [
    {
     "name": "stdout",
     "output_type": "stream",
     "text": [
      "FruitName : XXX,  ColorName : XXX\n"
     ]
    }
   ],
   "source": [
    "def fruitDecorator(func):\n",
    "    def inner_func():        \n",
    "        print(\"FruitName : XXX, \", end = \" \")\n",
    "        func()\n",
    "    return inner_func\n",
    "\n",
    "@fruitDecorator\n",
    "def color():\n",
    "    print(\"ColorName : XXX\")\n",
    "\n",
    "color()"
   ]
  },
  {
   "cell_type": "markdown",
   "metadata": {},
   "source": [
    "#### Built-in Decorators \n",
    "- `@property`\n",
    "    - Declares a function/method has property setter/getter method \n",
    "- `@classmethod`\n",
    "    - Declares a function/method as class method\n",
    "    - It can access class attributes, but not the instance attributes\n",
    "- `@staticmethod`\n",
    "    - Declares a function/method as static method\n",
    "    - It cannot access either class attributes or instance attributes."
   ]
  },
  {
   "cell_type": "markdown",
   "metadata": {},
   "source": [
    "#### `@property`\n",
    "- Using this decorator, one can access object property values in terms of getter & setter methods"
   ]
  },
  {
   "cell_type": "code",
   "execution_count": 10,
   "metadata": {},
   "outputs": [
    {
     "data": {
      "text/plain": [
       "'Apple'"
      ]
     },
     "execution_count": 10,
     "metadata": {},
     "output_type": "execute_result"
    }
   ],
   "source": [
    "class Fruit:\n",
    "    def __init__(self, name):\n",
    "        self.__name = name\n",
    "    @property\n",
    "    def name(self):\n",
    "        return self.__name\n",
    "\n",
    "fruit = Fruit('Apple')\n",
    "fruit.name"
   ]
  },
  {
   "cell_type": "markdown",
   "metadata": {},
   "source": [
    "#### Without : `@property`"
   ]
  },
  {
   "cell_type": "code",
   "execution_count": 33,
   "metadata": {},
   "outputs": [
    {
     "name": "stdout",
     "output_type": "stream",
     "text": [
      "<__main__.Fruit object at 0x7feb8351c0d0>\n"
     ]
    },
    {
     "data": {
      "text/plain": [
       "'Apple'"
      ]
     },
     "execution_count": 33,
     "metadata": {},
     "output_type": "execute_result"
    }
   ],
   "source": [
    "class Fruit:\n",
    "    def __init__(self, name):\n",
    "        self.name = name\n",
    "\n",
    "fruit = Fruit('Apple')\n",
    "print(fruit)\n",
    "fruit.name"
   ]
  },
  {
   "cell_type": "markdown",
   "metadata": {},
   "source": [
    "- Getting Object Property Values using `@property`\n",
    "- Setting Object Property Values using `@propertyvalue.setter`"
   ]
  },
  {
   "cell_type": "code",
   "execution_count": 23,
   "metadata": {},
   "outputs": [
    {
     "name": "stdout",
     "output_type": "stream",
     "text": [
      "Apple\n",
      "Mango\n"
     ]
    }
   ],
   "source": [
    "class Fruit:\n",
    "    def __init__(self, fname):\n",
    "        self.__fname = fname\n",
    "    @property\n",
    "    def fname(self):\n",
    "        return self.__fname\n",
    "    @fname.setter\n",
    "    def fname(self, value):\n",
    "        self.__fname = value      \n",
    "\n",
    "fruit = Fruit('Apple')\n",
    "print(fruit.fname)\n",
    "\n",
    "fruit.fname = \"Mango\"\n",
    "print(fruit.fname)    "
   ]
  },
  {
   "cell_type": "markdown",
   "metadata": {},
   "source": [
    "#### `@classmethod`"
   ]
  },
  {
   "cell_type": "code",
   "execution_count": 32,
   "metadata": {},
   "outputs": [
    {
     "name": "stdout",
     "output_type": "stream",
     "text": [
      "Fruit Class Attributes: fname = Apple\n",
      "None\n",
      "Fruit Class Attributes: fname = Apple\n",
      "None\n",
      "Fruit Class Attributes: fname = Apple\n",
      "None\n"
     ]
    }
   ],
   "source": [
    "class Fruit:\n",
    "    fname = 'Apple' # Class Attribute Value\n",
    "    def __init__(self):\n",
    "        self.rate = 2  # Instance Attribute Value\n",
    "\n",
    "    # This allows to access only class attributes but not Instance attributes\n",
    "    @classmethod\n",
    "    def getFruitName(cls):\n",
    "        # cls : refer to class\n",
    "        # self : refer to object\n",
    "        print('Fruit Class Attributes: fname =',cls.fname) # This works as this decorator only access class attributes\n",
    "        # print('Fruit Object Attributes: rate =',self.rate) # This doesn't works as this decorator can't access object attributes\n",
    "\n",
    "###########################################################\n",
    "##### Different Ways to Access Fruit Class Attributes #####\n",
    "###########################################################\n",
    "# Way 1 : With ClassName\n",
    "print(Fruit.getFruitName())\n",
    "\n",
    "# Way 2 : With Object\n",
    "frt = Fruit()\n",
    "print(frt.getFruitName())\n",
    "\n",
    "# Way 2 : With Object\n",
    "print(Fruit().getFruitName())"
   ]
  },
  {
   "cell_type": "markdown",
   "metadata": {},
   "source": [
    "#### `@staticmethod`"
   ]
  },
  {
   "cell_type": "code",
   "execution_count": 34,
   "metadata": {},
   "outputs": [
    {
     "name": "stdout",
     "output_type": "stream",
     "text": [
      "Hello Fruit!\n",
      "None\n",
      "Hello Fruit!\n",
      "None\n",
      "Hello Fruit!\n",
      "None\n"
     ]
    }
   ],
   "source": [
    "class Fruit:\n",
    "    fname = 'Apple' # Class Attribute Value\n",
    "    def __init__(self):\n",
    "        self.rate = 2  # Instance Attribute Value\n",
    "\n",
    "    # This allows to access only class attributes but not Instance attributes\n",
    "    @staticmethod\n",
    "    def greetFruit():\n",
    "        print('Hello Fruit!')\n",
    "\n",
    "#############################################################\n",
    "##### Different Ways to call Fruit Class static methods #####\n",
    "#############################################################\n",
    "# Way 1 : With ClassName\n",
    "print(Fruit.greetFruit())\n",
    "\n",
    "# Way 2 : With Object\n",
    "frt = Fruit()\n",
    "print(frt.greetFruit())\n",
    "\n",
    "# Way 2 : With Object\n",
    "print(Fruit().greetFruit())"
   ]
  },
  {
   "cell_type": "code",
   "execution_count": 36,
   "metadata": {},
   "outputs": [
    {
     "ename": "NameError",
     "evalue": "name 'fname' is not defined",
     "output_type": "error",
     "traceback": [
      "\u001b[0;31m---------------------------------------------------------------------------\u001b[0m",
      "\u001b[0;31mNameError\u001b[0m                                 Traceback (most recent call last)",
      "\u001b[0;32m<ipython-input-36-944b50971f4d>\u001b[0m in \u001b[0;36m<module>\u001b[0;34m\u001b[0m\n\u001b[1;32m      9\u001b[0m         \u001b[0mprint\u001b[0m\u001b[0;34m(\u001b[0m\u001b[0;34m'Hello Fruit!'\u001b[0m\u001b[0;34m,\u001b[0m \u001b[0mfname\u001b[0m\u001b[0;34m,\u001b[0m \u001b[0mself\u001b[0m\u001b[0;34m.\u001b[0m\u001b[0mrate\u001b[0m\u001b[0;34m)\u001b[0m \u001b[0;31m# This doesn't work, as @staticmethod decorator can't access class & object attributes\u001b[0m\u001b[0;34m\u001b[0m\u001b[0;34m\u001b[0m\u001b[0m\n\u001b[1;32m     10\u001b[0m \u001b[0;34m\u001b[0m\u001b[0m\n\u001b[0;32m---> 11\u001b[0;31m \u001b[0mprint\u001b[0m\u001b[0;34m(\u001b[0m\u001b[0mFruit\u001b[0m\u001b[0;34m.\u001b[0m\u001b[0mgreetFruit\u001b[0m\u001b[0;34m(\u001b[0m\u001b[0;34m)\u001b[0m\u001b[0;34m)\u001b[0m\u001b[0;34m\u001b[0m\u001b[0;34m\u001b[0m\u001b[0m\n\u001b[0m",
      "\u001b[0;32m<ipython-input-36-944b50971f4d>\u001b[0m in \u001b[0;36mgreetFruit\u001b[0;34m()\u001b[0m\n\u001b[1;32m      7\u001b[0m     \u001b[0;34m@\u001b[0m\u001b[0mstaticmethod\u001b[0m\u001b[0;34m\u001b[0m\u001b[0;34m\u001b[0m\u001b[0m\n\u001b[1;32m      8\u001b[0m     \u001b[0;32mdef\u001b[0m \u001b[0mgreetFruit\u001b[0m\u001b[0;34m(\u001b[0m\u001b[0;34m)\u001b[0m\u001b[0;34m:\u001b[0m\u001b[0;34m\u001b[0m\u001b[0;34m\u001b[0m\u001b[0m\n\u001b[0;32m----> 9\u001b[0;31m         \u001b[0mprint\u001b[0m\u001b[0;34m(\u001b[0m\u001b[0;34m'Hello Fruit!'\u001b[0m\u001b[0;34m,\u001b[0m \u001b[0mfname\u001b[0m\u001b[0;34m,\u001b[0m \u001b[0mself\u001b[0m\u001b[0;34m.\u001b[0m\u001b[0mrate\u001b[0m\u001b[0;34m)\u001b[0m \u001b[0;31m# This doesn't work, as @staticmethod decorator can't access class & object attributes\u001b[0m\u001b[0;34m\u001b[0m\u001b[0;34m\u001b[0m\u001b[0m\n\u001b[0m\u001b[1;32m     10\u001b[0m \u001b[0;34m\u001b[0m\u001b[0m\n\u001b[1;32m     11\u001b[0m \u001b[0mprint\u001b[0m\u001b[0;34m(\u001b[0m\u001b[0mFruit\u001b[0m\u001b[0;34m.\u001b[0m\u001b[0mgreetFruit\u001b[0m\u001b[0;34m(\u001b[0m\u001b[0;34m)\u001b[0m\u001b[0;34m)\u001b[0m\u001b[0;34m\u001b[0m\u001b[0;34m\u001b[0m\u001b[0m\n",
      "\u001b[0;31mNameError\u001b[0m: name 'fname' is not defined"
     ]
    }
   ],
   "source": [
    "class Fruit:\n",
    "    fname = 'Apple' # Class Attribute Value\n",
    "    def __init__(self):\n",
    "        self.rate = 2  # Instance Attribute Value\n",
    "\n",
    "    # This allows to access only class attributes but not Instance attributes\n",
    "    @staticmethod\n",
    "    def greetFruit():\n",
    "        print('Hello Fruit!', fname, self.rate) # This doesn't work, as @staticmethod decorator can't access class & object attributes\n",
    "\n",
    "print(Fruit.greetFruit())"
   ]
  }
 ],
 "metadata": {
  "interpreter": {
   "hash": "40d3a090f54c6569ab1632332b64b2c03c39dcf918b08424e98f38b5ae0af88f"
  },
  "kernelspec": {
   "display_name": "Python 3.7.4 64-bit ('base': conda)",
   "name": "python3"
  },
  "language_info": {
   "codemirror_mode": {
    "name": "ipython",
    "version": 3
   },
   "file_extension": ".py",
   "mimetype": "text/x-python",
   "name": "python",
   "nbconvert_exporter": "python",
   "pygments_lexer": "ipython3",
   "version": "3.7.4"
  },
  "orig_nbformat": 4
 },
 "nbformat": 4,
 "nbformat_minor": 2
}
