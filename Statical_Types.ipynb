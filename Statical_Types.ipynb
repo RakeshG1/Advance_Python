{
 "cells": [
  {
   "cell_type": "markdown",
   "metadata": {},
   "source": [
    "#### About Typing Module\n",
    "- `Reference Article`\n",
    "- `https://www.tutorialandexample.com/python-typing-module`\n",
    "- Typing module is introduced in Python version 3.5\n",
    "- It allows to know variable type at compile time(like Java, Kotlin) instead of at runtime(like Python)\n",
    "- This helps developer to know what is the datatype of varaible at development time itself instead at runtime\n",
    "- This Typing Module is known as `Type Hinting`. This helps developers and programmers to hint at the type of the object(s) being utilized while the compilation period\n",
    "- This concept does not perform the actual type checking at the compilation period. Moreover, there will be no compilation error if the original object returned was not of a similar type as hinted.\n",
    "- Variable annotations stored in the module level `__annotations__` dictionary.\n"
   ]
  },
  {
   "cell_type": "markdown",
   "metadata": {},
   "source": [
    "#### Import Libraries"
   ]
  },
  {
   "cell_type": "code",
   "execution_count": 4,
   "metadata": {},
   "outputs": [],
   "source": [
    "import pandas as pd \n",
    "import numpy as np \n",
    "from typing import List, Dict"
   ]
  },
  {
   "cell_type": "markdown",
   "metadata": {},
   "source": [
    "#### Variable Type Annotation"
   ]
  },
  {
   "cell_type": "code",
   "execution_count": 5,
   "metadata": {},
   "outputs": [
    {
     "name": "stdout",
     "output_type": "stream",
     "text": [
      "Apple\n",
      "<class 'str'>\n",
      "{'fruitName': <class 'str'>}\n"
     ]
    }
   ],
   "source": [
    "fruitName : str\n",
    "fruitName = \"Apple\"\n",
    "print(fruitName)\n",
    "print(type(fruitName))\n",
    "print(__annotations__)"
   ]
  },
  {
   "cell_type": "code",
   "execution_count": 3,
   "metadata": {},
   "outputs": [
    {
     "name": "stdout",
     "output_type": "stream",
     "text": [
      "1\n",
      "<class 'str'>\n",
      "{'fruitName': <class 'int'>}\n"
     ]
    }
   ],
   "source": [
    "fruitName : int\n",
    "fruitName = \"1\"\n",
    "print(fruitName)\n",
    "print(type(fruitName))\n",
    "print(__annotations__)"
   ]
  },
  {
   "cell_type": "markdown",
   "metadata": {},
   "source": [
    "- `Observation`\n",
    "- Though we mentioned `fruitName : int` the resulting data type is \"str\", because value we assigned is \"str\". So this typing is just for self hinting, it doesn't change/restrict actual datatypes"
   ]
  },
  {
   "cell_type": "code",
   "execution_count": 4,
   "metadata": {},
   "outputs": [
    {
     "name": "stdout",
     "output_type": "stream",
     "text": [
      "1\n",
      "<class 'int'>\n",
      "{'fruitName': <class 'int'>}\n"
     ]
    }
   ],
   "source": [
    "fruitName : int\n",
    "fruitName = 1\n",
    "print(fruitName)\n",
    "print(type(fruitName))\n",
    "print(__annotations__)"
   ]
  },
  {
   "cell_type": "markdown",
   "metadata": {},
   "source": [
    "#### Function Return Type Annotation"
   ]
  },
  {
   "cell_type": "code",
   "execution_count": 5,
   "metadata": {},
   "outputs": [
    {
     "name": "stdout",
     "output_type": "stream",
     "text": [
      "4.62\n",
      "<class 'float'>\n"
     ]
    }
   ],
   "source": [
    "def mul(a:float, b:float) -> float:\n",
    "    return round(a * b, 2)\n",
    "\n",
    "print(mul(2.2, 2.1))\n",
    "print(type(mul(2.2, 2.1)))"
   ]
  },
  {
   "cell_type": "code",
   "execution_count": 6,
   "metadata": {},
   "outputs": [
    {
     "name": "stdout",
     "output_type": "stream",
     "text": [
      "4.62\n",
      "<class 'float'>\n",
      "{'fruitName': <class 'int'>}\n"
     ]
    }
   ],
   "source": [
    "def mul(a:float, b:float) -> str:\n",
    "    # This is a multiplication function, takes two inputs\n",
    "    return round(a * b, 2)\n",
    "\n",
    "print(mul(2.2, 2.1))\n",
    "print(type(mul(2.2, 2.1)))\n",
    "print(__annotations__)"
   ]
  },
  {
   "cell_type": "markdown",
   "metadata": {},
   "source": [
    "- `Observation`\n",
    "- Though we mentioned `mul(a:float, b:float) -> str` the resulting data type is \"float\", because return value is \"float\". \n",
    "- So this typing is just for self hinting, it doesn't change/restrict actual function return datatypes"
   ]
  },
  {
   "cell_type": "markdown",
   "metadata": {},
   "source": [
    "#### Type Comment\n",
    "- It is not stored in `__annotations__` module"
   ]
  },
  {
   "cell_type": "code",
   "execution_count": 7,
   "metadata": {},
   "outputs": [
    {
     "name": "stdout",
     "output_type": "stream",
     "text": [
      "4.62\n",
      "<class 'float'>\n",
      "{'fruitName': <class 'int'>}\n"
     ]
    }
   ],
   "source": [
    "def mul(a, b):\n",
    "    # type: (float, float) -> float\n",
    "    return round(a * b, 2)\n",
    "\n",
    "print(mul(2.2, 2.1))\n",
    "print(type(mul(2.2, 2.1)))\n",
    "print(__annotations__)"
   ]
  },
  {
   "cell_type": "markdown",
   "metadata": {},
   "source": [
    "#### Type Alias"
   ]
  },
  {
   "cell_type": "code",
   "execution_count": 8,
   "metadata": {},
   "outputs": [],
   "source": [
    "values_list : List[float]"
   ]
  },
  {
   "cell_type": "code",
   "execution_count": 9,
   "metadata": {},
   "outputs": [
    {
     "ename": "NameError",
     "evalue": "name 'values_list' is not defined",
     "output_type": "error",
     "traceback": [
      "\u001b[0;31m---------------------------------------------------------------------------\u001b[0m",
      "\u001b[0;31mNameError\u001b[0m                                 Traceback (most recent call last)",
      "\u001b[0;32m<ipython-input-9-ebba1594db90>\u001b[0m in \u001b[0;36m<module>\u001b[0;34m\u001b[0m\n\u001b[0;32m----> 1\u001b[0;31m \u001b[0mprint\u001b[0m\u001b[0;34m(\u001b[0m\u001b[0mvalues_list\u001b[0m\u001b[0;34m)\u001b[0m\u001b[0;34m\u001b[0m\u001b[0;34m\u001b[0m\u001b[0m\n\u001b[0m",
      "\u001b[0;31mNameError\u001b[0m: name 'values_list' is not defined"
     ]
    }
   ],
   "source": [
    "print(values_list)"
   ]
  },
  {
   "cell_type": "markdown",
   "metadata": {},
   "source": [
    "- `Observation`\n",
    "- Its just given `Type Alias` hint, that values_list takes `list of float values`, but it not intialised yet"
   ]
  },
  {
   "cell_type": "code",
   "execution_count": 9,
   "metadata": {},
   "outputs": [
    {
     "name": "stdout",
     "output_type": "stream",
     "text": [
      "<class 'float'>\n",
      "sum_value -->  38.2\n"
     ]
    }
   ],
   "source": [
    "def summ(values_list: List[float]) -> float:\n",
    "    return sum(x for x in values_list)\n",
    "\n",
    "sum_value = summ(values_list = [1.2, 10, 6.0, 21])\n",
    "print(type(sum_value))\n",
    "print(\"sum_value --> \", sum_value)"
   ]
  },
  {
   "cell_type": "markdown",
   "metadata": {},
   "source": [
    "- `Observation`\n",
    "- Here we are trying to just hinting in the code i.e., values_list takes `list of float values` and returns `float` as return.\n",
    "- In case we change something in actual datatypes the `type hint module` doesn't throw any error. Like below."
   ]
  },
  {
   "cell_type": "code",
   "execution_count": 10,
   "metadata": {},
   "outputs": [
    {
     "name": "stdout",
     "output_type": "stream",
     "text": [
      "<class 'str'>\n",
      "sum_value -->  38.2\n"
     ]
    }
   ],
   "source": [
    "def summ(values_list: List[float]) -> float:\n",
    "    return str(sum(x for x in values_list))\n",
    "\n",
    "sum_value = summ(values_list = [1.2, 10, 6.0, 21])\n",
    "print(type(sum_value))\n",
    "print(\"sum_value --> \", sum_value)"
   ]
  }
 ],
 "metadata": {
  "interpreter": {
   "hash": "40d3a090f54c6569ab1632332b64b2c03c39dcf918b08424e98f38b5ae0af88f"
  },
  "kernelspec": {
   "display_name": "Python 3.7.4 64-bit ('base': conda)",
   "name": "python3"
  },
  "language_info": {
   "codemirror_mode": {
    "name": "ipython",
    "version": 3
   },
   "file_extension": ".py",
   "mimetype": "text/x-python",
   "name": "python",
   "nbconvert_exporter": "python",
   "pygments_lexer": "ipython3",
   "version": "3.7.4"
  },
  "orig_nbformat": 4
 },
 "nbformat": 4,
 "nbformat_minor": 2
}
