{
 "cells": [
  {
   "cell_type": "markdown",
   "metadata": {},
   "source": [
    "#### `About Collections`\n",
    "\n",
    "- The collection Module in Python provides different types of containers. \n",
    "- A Container is an object that is used to store different objects and provide a way to access the contained objects and iterate over them.\n",
    "- Some of the built-in containers are Tuple, List, Dictionary, etc. Below are other different containers"
   ]
  },
  {
   "cell_type": "markdown",
   "metadata": {},
   "source": [
    "#### `Import Libraries`"
   ]
  },
  {
   "cell_type": "code",
   "execution_count": 1,
   "metadata": {},
   "outputs": [],
   "source": [
    "import pandas as pd \n",
    "import numpy as np \n",
    "from collections import Counter, OrderedDict, ChainMap, namedtuple, deque, UserDict"
   ]
  },
  {
   "cell_type": "markdown",
   "metadata": {},
   "source": [
    "- **`Counter`**\n",
    "  - A counter is a sub-class of the dictionary. It is unordered."
   ]
  },
  {
   "cell_type": "code",
   "execution_count": null,
   "metadata": {},
   "outputs": [],
   "source": [
    "print(\"Example : sequence of items \")\n",
    "print(\"--\"*10)\n",
    "print(Counter(['AA','AA','A','DD','C','A']))\n",
    "   \n",
    "print(\"Example : with dictionary\")\n",
    "print(\"--\"*10)\n",
    "print(Counter({'AA':3, 'B':5, 'CD':2}))\n",
    "   \n",
    "print(\"Example : with keyword arguments\")\n",
    "print(\"--\"*10)\n",
    "print(Counter(AA=3, B=5, CD=2))\n",
    "\n",
    "res = Counter(AA=3, B=5, CD=2)\n",
    "print(\"Data Type --> \", type(res))\n",
    "print(\"Getting counts of AA : \", res[\"AA\"])"
   ]
  },
  {
   "cell_type": "markdown",
   "metadata": {},
   "source": [
    "- **`OrderedDict`**\n",
    "  - A counter is a sub-class of the dictionary. It is ordered."
   ]
  },
  {
   "cell_type": "code",
   "execution_count": null,
   "metadata": {},
   "outputs": [],
   "source": [
    "print(\"Example : with dictionary\")\n",
    "print(\"--\"*10)\n",
    "dictr = {}\n",
    "dictr[\"B\"] = 2\n",
    "dictr[\"C\"] = 1\n",
    "\n",
    "for key, value in dictr.items():\n",
    "    print(key, value)\n",
    "\n",
    "print(\"Example : with ordered dictionary\")\n",
    "print(\"--\"*10)\n",
    "ordered_dictr = OrderedDict()\n",
    "ordered_dictr[\"B\"] = 2\n",
    "ordered_dictr[\"C\"] = 1\n",
    "print(\"Before Deleting : \")\n",
    "for key, value in ordered_dictr.items():\n",
    "    print(key, value)\n",
    "\n",
    "ordered_dictr.pop(\"B\") # Delete B element\n",
    "ordered_dictr[\"B\"] = 10 # Insert B element\n",
    "print(\"After Reinserting : \")\n",
    "for key, value in ordered_dictr.items():\n",
    "    print(key, value)"
   ]
  },
  {
   "cell_type": "markdown",
   "metadata": {},
   "source": [
    "- **`ChainMap`**\n",
    "  - It is a list of dictionaries"
   ]
  },
  {
   "cell_type": "code",
   "execution_count": null,
   "metadata": {},
   "outputs": [],
   "source": [
    "dictr1 = {\"a\":1, \"b\":2}\n",
    "dictr2 = {\"c\":3, \"f\":2}\n",
    "\n",
    "chain_dictr = ChainMap(dictr1, dictr2)\n",
    "\n",
    "print(\"chain_dictr --> \", chain_dictr)\n",
    "print(\"Accessing Key 'a' Value : \",chain_dictr[\"a\"])\n",
    "print(\"Values View : \",chain_dictr.values())\n",
    "print(\"Keys View : \",chain_dictr.keys())\n",
    "for key, value in chain_dictr.items():\n",
    "    print(key, value) \n",
    "print(\"Adding New Dictionary\")\n",
    "print(\"--\"*10)\n",
    "dictr3 = {\"g\":10}\n",
    "chain_dictr = chain_dictr.new_child(dictr3) \n",
    "for key, value in chain_dictr.items():\n",
    "    print(key, value) "
   ]
  },
  {
   "cell_type": "markdown",
   "metadata": {},
   "source": [
    "- **`NamedTuple`**\n",
    "  - Stores tuple object with names tagged"
   ]
  },
  {
   "cell_type": "code",
   "execution_count": null,
   "metadata": {},
   "outputs": [],
   "source": [
    "Company = namedtuple(\"Branch\", [\"name\", \"location\"])\n",
    "\n",
    "comp = Company(\"ABC\", \"India\")\n",
    "print(\"Company Details : \", comp)\n",
    "print(\"Company Name : \", comp[0])\n",
    "print(\"Company location : \", comp[1])"
   ]
  },
  {
   "cell_type": "markdown",
   "metadata": {},
   "source": [
    "- **`Deque`**\n",
    "  - Deque (Doubly Ended Queue) is the optimized list for quicker append and pop operations from both sides of the container.\n",
    "  - It provides O(1) time complexity for append and pop operations as compared to list with O(n) time complexity."
   ]
  },
  {
   "cell_type": "code",
   "execution_count": null,
   "metadata": {},
   "outputs": [],
   "source": [
    "# Declare deque object\n",
    "queue = deque([\"name\", \"age\"])\n",
    "print(queue)\n",
    "\n",
    "queue = deque([10,20,12,25])\n",
    "queue.append(12) # Inserts at right side last position\n",
    "queue.append(\"a\") # Inserts at right side last position\n",
    "queue.appendleft(\"b\") # Inserts at left side 1st position\n",
    "print(\"Before Deleting\")\n",
    "print(\"--\"*10)\n",
    "print(queue)\n",
    "\n",
    "print(\"After Deleting\")\n",
    "print(\"--\"*10)\n",
    "queue.pop() # Deletes at right side last position\n",
    "queue.popleft() # Deletes at left side 1st position\n",
    "print(queue)"
   ]
  },
  {
   "cell_type": "markdown",
   "metadata": {},
   "source": [
    "- **`UserDict`**\n",
    "  - It is like a wrapper class which we create to have some customised function to avoid modifications to existing data\n",
    "  - Same functionality available in `UserList` & `UserString` collection objects too"
   ]
  },
  {
   "cell_type": "code",
   "execution_count": 4,
   "metadata": {},
   "outputs": [
    {
     "name": "stdout",
     "output_type": "stream",
     "text": [
      "{'a': 1, 'b': 2}\n",
      "Error Raised : Deletion not allowed\n",
      "Finally Block : Closing Operation\n"
     ]
    },
    {
     "name": "stderr",
     "output_type": "stream",
     "text": [
      "Exception ignored in: <function MyDict.__del__ at 0x7fc60cf40d40>\n",
      "Traceback (most recent call last):\n",
      "  File \"<ipython-input-3-5f877137f655>\", line 4, in __del__\n",
      "RuntimeError: Error Raised : Deletion not allowed\n"
     ]
    }
   ],
   "source": [
    "##### Creating Dictionary Object with customised functions. Like activities to be bloked on this dictionary #####\n",
    "class MyDict(UserDict): # UserDict - Collection object\n",
    "    def __del__(self):\n",
    "        raise RuntimeError(\"Error Raised : Deletion not allowed\")\n",
    "    def pop(self, s = None):\n",
    "        raise RuntimeError(\"Error Raised : Deletion not allowed\")\n",
    "    def popitem(self, s = None):\n",
    "        raise RuntimeError(\"Error Raised : Deletion not allowed\")\n",
    "       \n",
    "# Sample Dictionry\n",
    "dictr = MyDict({'a':1,'b': 2})\n",
    "print(dictr.data)\n",
    "try:\n",
    "    dictr.pop()\n",
    "except Exception as error:\n",
    "    print(error)\n",
    "finally:\n",
    "    print(\"Finally Block : Closing Operation\")\n"
   ]
  }
 ],
 "metadata": {
  "interpreter": {
   "hash": "40d3a090f54c6569ab1632332b64b2c03c39dcf918b08424e98f38b5ae0af88f"
  },
  "kernelspec": {
   "display_name": "Python 3.7.4 64-bit ('base': conda)",
   "name": "python3"
  },
  "language_info": {
   "codemirror_mode": {
    "name": "ipython",
    "version": 3
   },
   "file_extension": ".py",
   "mimetype": "text/x-python",
   "name": "python",
   "nbconvert_exporter": "python",
   "pygments_lexer": "ipython3",
   "version": "3.7.4"
  },
  "orig_nbformat": 4
 },
 "nbformat": 4,
 "nbformat_minor": 2
}
