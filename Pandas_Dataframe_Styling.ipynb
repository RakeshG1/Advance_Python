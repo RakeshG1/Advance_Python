{
 "cells": [
  {
   "cell_type": "markdown",
   "metadata": {},
   "source": [
    "#### `Import Libraries`"
   ]
  },
  {
   "cell_type": "code",
   "execution_count": 3,
   "metadata": {},
   "outputs": [],
   "source": [
    "import pandas as pd\n",
    "import numpy as np\n",
    "from IPython.core.display import display, HTML, Image"
   ]
  },
  {
   "cell_type": "markdown",
   "metadata": {},
   "source": [
    "#### `Sample Data`"
   ]
  },
  {
   "cell_type": "code",
   "execution_count": 10,
   "metadata": {},
   "outputs": [
    {
     "data": {
      "text/html": [
       "<div>\n",
       "<style scoped>\n",
       "    .dataframe tbody tr th:only-of-type {\n",
       "        vertical-align: middle;\n",
       "    }\n",
       "\n",
       "    .dataframe tbody tr th {\n",
       "        vertical-align: top;\n",
       "    }\n",
       "\n",
       "    .dataframe thead th {\n",
       "        text-align: right;\n",
       "    }\n",
       "</style>\n",
       "<table border=\"1\" class=\"dataframe\">\n",
       "  <thead>\n",
       "    <tr style=\"text-align: right;\">\n",
       "      <th></th>\n",
       "      <th>Value</th>\n",
       "      <th>Category</th>\n",
       "    </tr>\n",
       "  </thead>\n",
       "  <tbody>\n",
       "    <tr>\n",
       "      <td>0</td>\n",
       "      <td>1</td>\n",
       "      <td>Category A</td>\n",
       "    </tr>\n",
       "    <tr>\n",
       "      <td>1</td>\n",
       "      <td>2</td>\n",
       "      <td>Category B</td>\n",
       "    </tr>\n",
       "    <tr>\n",
       "      <td>2</td>\n",
       "      <td>3</td>\n",
       "      <td>Category C</td>\n",
       "    </tr>\n",
       "  </tbody>\n",
       "</table>\n",
       "</div>"
      ],
      "text/plain": [
       "  Value    Category\n",
       "0     1  Category A\n",
       "1     2  Category B\n",
       "2     3  Category C"
      ]
     },
     "execution_count": 10,
     "metadata": {},
     "output_type": "execute_result"
    }
   ],
   "source": [
    "df = pd.DataFrame({\"Value\":[1,2,3],\"Category\":[\"Category A\", \"Category B\", \"Category C\"]})\n",
    "df[\"Value\"] = df[\"Value\"].astype(str)\n",
    "df"
   ]
  },
  {
   "cell_type": "code",
   "execution_count": 16,
   "metadata": {},
   "outputs": [
    {
     "data": {
      "text/html": [
       "<style  type=\"text/css\" >\n",
       "    #T_d3ea757e_6b3a_11ec_b79c_50de06b887ea caption {\n",
       "          color: steelblue;\n",
       "          font-size: 12px;\n",
       "    }    #T_d3ea757e_6b3a_11ec_b79c_50de06b887earow0_col0 {\n",
       "            background-color :  steelblue;\n",
       "            color :  yellow;\n",
       "        }    #T_d3ea757e_6b3a_11ec_b79c_50de06b887earow0_col1 {\n",
       "            background-color :  yellow;\n",
       "            color :  green;\n",
       "        }    #T_d3ea757e_6b3a_11ec_b79c_50de06b887earow1_col0 {\n",
       "            background-color :  steelblue;\n",
       "            color :  yellow;\n",
       "        }    #T_d3ea757e_6b3a_11ec_b79c_50de06b887earow1_col1 {\n",
       "            background-color :  steelblue;\n",
       "            color :  yellow;\n",
       "        }    #T_d3ea757e_6b3a_11ec_b79c_50de06b887earow2_col0 {\n",
       "            background-color :  steelblue;\n",
       "            color :  yellow;\n",
       "        }    #T_d3ea757e_6b3a_11ec_b79c_50de06b887earow2_col1 {\n",
       "            background-color :  steelblue;\n",
       "            color :  yellow;\n",
       "        }</style><table id=\"T_d3ea757e_6b3a_11ec_b79c_50de06b887ea\" ><caption>Pandas Dataframe Styling</caption><thead>    <tr>        <th class=\"blank level0\" ></th>        <th class=\"col_heading level0 col0\" >Value</th>        <th class=\"col_heading level0 col1\" >Category</th>    </tr></thead><tbody>\n",
       "                <tr>\n",
       "                        <th id=\"T_d3ea757e_6b3a_11ec_b79c_50de06b887ealevel0_row0\" class=\"row_heading level0 row0\" >0</th>\n",
       "                        <td id=\"T_d3ea757e_6b3a_11ec_b79c_50de06b887earow0_col0\" class=\"data row0 col0\" >1</td>\n",
       "                        <td id=\"T_d3ea757e_6b3a_11ec_b79c_50de06b887earow0_col1\" class=\"data row0 col1\" >Category A</td>\n",
       "            </tr>\n",
       "            <tr>\n",
       "                        <th id=\"T_d3ea757e_6b3a_11ec_b79c_50de06b887ealevel0_row1\" class=\"row_heading level0 row1\" >1</th>\n",
       "                        <td id=\"T_d3ea757e_6b3a_11ec_b79c_50de06b887earow1_col0\" class=\"data row1 col0\" >2</td>\n",
       "                        <td id=\"T_d3ea757e_6b3a_11ec_b79c_50de06b887earow1_col1\" class=\"data row1 col1\" >Category B</td>\n",
       "            </tr>\n",
       "            <tr>\n",
       "                        <th id=\"T_d3ea757e_6b3a_11ec_b79c_50de06b887ealevel0_row2\" class=\"row_heading level0 row2\" >2</th>\n",
       "                        <td id=\"T_d3ea757e_6b3a_11ec_b79c_50de06b887earow2_col0\" class=\"data row2 col0\" >3</td>\n",
       "                        <td id=\"T_d3ea757e_6b3a_11ec_b79c_50de06b887earow2_col1\" class=\"data row2 col1\" >Category C</td>\n",
       "            </tr>\n",
       "    </tbody></table>"
      ],
      "text/plain": [
       "<pandas.io.formats.style.Styler at 0x7ff262bbc590>"
      ]
     },
     "metadata": {},
     "output_type": "display_data"
    }
   ],
   "source": [
    "display(df.style.applymap(lambda x: \"background-color : {}\".format(\"yellow\") if x == \"{}\".format(\"Category A\") else \"background-color : {}\".format(\"steelblue\")) \\\n",
    "                .applymap(lambda x: \"color : {}\".format(\"green\") if x == \"{}\".format(\"Category A\") else \"color : {}\".format(\"yellow\")) \\\n",
    "                .set_caption(\"Pandas Dataframe Styling\").set_table_styles([{\"selector\": \"caption\",  \\\n",
    "                                                                            \"props\":[(\"color\", \"steelblue\"), \\\n",
    "                                                                                     (\"font-size\", \"12px\")]}]) \\\n",
    "                .set_precision(2) \\\n",
    "                .background_gradient()\n",
    "        )"
   ]
  }
 ],
 "metadata": {
  "interpreter": {
   "hash": "40d3a090f54c6569ab1632332b64b2c03c39dcf918b08424e98f38b5ae0af88f"
  },
  "kernelspec": {
   "display_name": "Python 3.7.4 64-bit ('base': conda)",
   "name": "python3"
  },
  "language_info": {
   "codemirror_mode": {
    "name": "ipython",
    "version": 3
   },
   "file_extension": ".py",
   "mimetype": "text/x-python",
   "name": "python",
   "nbconvert_exporter": "python",
   "pygments_lexer": "ipython3",
   "version": "3.7.4"
  },
  "orig_nbformat": 4
 },
 "nbformat": 4,
 "nbformat_minor": 2
}
