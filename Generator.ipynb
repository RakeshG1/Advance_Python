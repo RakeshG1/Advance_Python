{
 "cells": [
  {
   "cell_type": "markdown",
   "metadata": {},
   "source": [
    "#### `Import Libraries`"
   ]
  },
  {
   "cell_type": "code",
   "execution_count": 2,
   "metadata": {},
   "outputs": [],
   "source": [
    "import pandas as pd \n",
    "import numpy as np "
   ]
  },
  {
   "cell_type": "markdown",
   "metadata": {},
   "source": [
    "#### `Generator Function`\n",
    "- Generator is a function which yields values but without return at end.\n",
    "- A normal function generally has return at end  "
   ]
  },
  {
   "cell_type": "code",
   "execution_count": 3,
   "metadata": {},
   "outputs": [
    {
     "name": "stdout",
     "output_type": "stream",
     "text": [
      "1\n",
      "2\n",
      "3\n"
     ]
    }
   ],
   "source": [
    "def simpleGeneratorFun():\n",
    "    '''\n",
    "    A Generator Function that yields,\n",
    "    1 for first time,\n",
    "    2 second time\n",
    "    and 3 third time\n",
    "    '''\n",
    "    yield 1            \n",
    "    yield 2            \n",
    "    yield 3            \n",
    "   \n",
    "# Driver code to check above generator function\n",
    "for value in simpleGeneratorFun(): \n",
    "    print(value)"
   ]
  },
  {
   "cell_type": "markdown",
   "metadata": {},
   "source": [
    "#### `Generator Object`\n",
    "- Generator functions return a generator object.\n",
    "- Generator objects are used either by calling the next method on the generator object or using the generator object in a “for in” loop"
   ]
  },
  {
   "cell_type": "code",
   "execution_count": 4,
   "metadata": {},
   "outputs": [
    {
     "name": "stdout",
     "output_type": "stream",
     "text": [
      "1\n",
      "2\n",
      "3\n"
     ]
    }
   ],
   "source": [
    "##### Generator Function #####\n",
    "def simpleGeneratorFun():\n",
    "    '''\n",
    "    A Generator Function\n",
    "    '''    \n",
    "    yield 1\n",
    "    yield 2\n",
    "    yield 3\n",
    "   \n",
    "##### x is a Generator Object #####\n",
    "x = simpleGeneratorFun()\n",
    "  \n",
    "# Iterating over the generator object using next\n",
    "print(x.__next__())\n",
    "print(x.__next__())\n",
    "print(x.__next__())"
   ]
  },
  {
   "cell_type": "markdown",
   "metadata": {},
   "source": [
    "#### `Iterating through Generator Object`"
   ]
  },
  {
   "cell_type": "code",
   "execution_count": 5,
   "metadata": {},
   "outputs": [
    {
     "name": "stdout",
     "output_type": "stream",
     "text": [
      "gen_obj -->  <generator object simpleGeneratorFun at 0x7ffaffc82ed0>\n",
      "i -->  0\n",
      "Yield Value [i * 10] -->  0\n",
      "i -->  1\n",
      "Yield Value [i * 10] -->  10\n",
      "i -->  2\n",
      "Yield Value [i * 10] -->  20\n"
     ]
    }
   ],
   "source": [
    "def simpleGeneratorFun(limit):\n",
    "    '''\n",
    "    A Generator Function\n",
    "    '''  \n",
    "    for i in range(limit):\n",
    "        print(\"i --> \", i)\n",
    "        yield i * 10\n",
    "\n",
    "##### Create a Generator Object #####\n",
    "gen_obj = simpleGeneratorFun(3)\n",
    "print(\"gen_obj --> \", gen_obj)\n",
    "\n",
    "##### Iterating over the generator object #####        \n",
    "for x in gen_obj:\n",
    "    print(\"Yield Value [i * 10] --> \", x)"
   ]
  }
 ],
 "metadata": {
  "interpreter": {
   "hash": "40d3a090f54c6569ab1632332b64b2c03c39dcf918b08424e98f38b5ae0af88f"
  },
  "kernelspec": {
   "display_name": "Python 3.7.4 64-bit ('base': conda)",
   "name": "python3"
  },
  "language_info": {
   "codemirror_mode": {
    "name": "ipython",
    "version": 3
   },
   "file_extension": ".py",
   "mimetype": "text/x-python",
   "name": "python",
   "nbconvert_exporter": "python",
   "pygments_lexer": "ipython3",
   "version": "3.7.4"
  },
  "orig_nbformat": 4
 },
 "nbformat": 4,
 "nbformat_minor": 2
}
