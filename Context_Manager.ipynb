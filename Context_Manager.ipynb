{
 "cells": [
  {
   "cell_type": "markdown",
   "metadata": {},
   "source": [
    "#### `Import Libraries`"
   ]
  },
  {
   "cell_type": "code",
   "execution_count": 34,
   "metadata": {},
   "outputs": [],
   "source": [
    "from contextlib import contextmanager"
   ]
  },
  {
   "cell_type": "markdown",
   "metadata": {},
   "source": [
    "#### `Simple Understanding about Context Manager`\n",
    "- A context manager is an object that defines a runtime context executing within the with statement."
   ]
  },
  {
   "cell_type": "markdown",
   "metadata": {},
   "source": [
    "- `Simple Example`\n",
    "  - Converting First element"
   ]
  },
  {
   "cell_type": "code",
   "execution_count": 13,
   "metadata": {},
   "outputs": [
    {
     "name": "stdout",
     "output_type": "stream",
     "text": [
      "Data : \n",
      "['100\\n', \"'100'\"]\n",
      "First Element -->  100\n"
     ]
    }
   ],
   "source": [
    "##### Open The File #####\n",
    "f = open('Files/Data.txt')\n",
    "##### Read the Lines #####\n",
    "data = f.readlines()\n",
    "print(\"Data : \")\n",
    "print(data)\n",
    "##### convert the number to integer and display it #####\n",
    "print(\"First Element --> \", int(data[0]))\n",
    "##### Close The File #####\n",
    "f.close()"
   ]
  },
  {
   "cell_type": "markdown",
   "metadata": {},
   "source": [
    "- Converting Second element : Which is in quotes. So, we get below Error & python may not close the file properly"
   ]
  },
  {
   "cell_type": "code",
   "execution_count": 14,
   "metadata": {},
   "outputs": [
    {
     "name": "stdout",
     "output_type": "stream",
     "text": [
      "Data : \n",
      "['100\\n', \"'100'\"]\n"
     ]
    },
    {
     "ename": "ValueError",
     "evalue": "invalid literal for int() with base 10: \"'100'\"",
     "output_type": "error",
     "traceback": [
      "\u001b[0;31m---------------------------------------------------------------------------\u001b[0m",
      "\u001b[0;31mValueError\u001b[0m                                Traceback (most recent call last)",
      "\u001b[0;32m<ipython-input-14-55cb00f1db96>\u001b[0m in \u001b[0;36m<module>\u001b[0;34m\u001b[0m\n\u001b[1;32m      6\u001b[0m \u001b[0mprint\u001b[0m\u001b[0;34m(\u001b[0m\u001b[0mdata\u001b[0m\u001b[0;34m)\u001b[0m\u001b[0;34m\u001b[0m\u001b[0;34m\u001b[0m\u001b[0m\n\u001b[1;32m      7\u001b[0m \u001b[0;31m##### convert the number to integer and display it #####\u001b[0m\u001b[0;34m\u001b[0m\u001b[0;34m\u001b[0m\u001b[0;34m\u001b[0m\u001b[0m\n\u001b[0;32m----> 8\u001b[0;31m \u001b[0mprint\u001b[0m\u001b[0;34m(\u001b[0m\u001b[0;34m\"First Element --> \"\u001b[0m\u001b[0;34m,\u001b[0m \u001b[0mint\u001b[0m\u001b[0;34m(\u001b[0m\u001b[0mdata\u001b[0m\u001b[0;34m[\u001b[0m\u001b[0;36m1\u001b[0m\u001b[0;34m]\u001b[0m\u001b[0;34m)\u001b[0m\u001b[0;34m)\u001b[0m\u001b[0;34m\u001b[0m\u001b[0;34m\u001b[0m\u001b[0m\n\u001b[0m\u001b[1;32m      9\u001b[0m \u001b[0;31m##### Close The File #####\u001b[0m\u001b[0;34m\u001b[0m\u001b[0;34m\u001b[0m\u001b[0;34m\u001b[0m\u001b[0m\n\u001b[1;32m     10\u001b[0m \u001b[0mf\u001b[0m\u001b[0;34m.\u001b[0m\u001b[0mclose\u001b[0m\u001b[0;34m(\u001b[0m\u001b[0;34m)\u001b[0m\u001b[0;34m\u001b[0m\u001b[0;34m\u001b[0m\u001b[0m\n",
      "\u001b[0;31mValueError\u001b[0m: invalid literal for int() with base 10: \"'100'\""
     ]
    }
   ],
   "source": [
    "##### Open The File #####\n",
    "f = open('Files/Data.txt')\n",
    "##### Read the Lines #####\n",
    "data = f.readlines()\n",
    "print(\"Data : \")\n",
    "print(data)\n",
    "##### convert the number to integer and display it #####\n",
    "print(\"First Element --> \", int(data[1]))\n",
    "##### Close The File #####\n",
    "f.close()"
   ]
  },
  {
   "cell_type": "markdown",
   "metadata": {},
   "source": [
    "- Fixing this using try...except...finally. Which closes file properly. As even in error python executes finally code block."
   ]
  },
  {
   "cell_type": "code",
   "execution_count": 15,
   "metadata": {},
   "outputs": [
    {
     "name": "stdout",
     "output_type": "stream",
     "text": [
      "invalid literal for int() with base 10: \"'100'\"\n"
     ]
    }
   ],
   "source": [
    "try:\n",
    "    f = open('Files/Data.txt')\n",
    "    data = f.readlines()\n",
    "    # convert the number to integer and display it\n",
    "    print(int(data[1]))\n",
    "except ValueError as error:\n",
    "    print(error)\n",
    "finally:\n",
    "    f.close()"
   ]
  },
  {
   "cell_type": "markdown",
   "metadata": {},
   "source": [
    "- Better way that allows you to automatically close the file after you complete processing it is **`context managers`**\n",
    "- `with` statement automatically closes file after processing"
   ]
  },
  {
   "cell_type": "code",
   "execution_count": 19,
   "metadata": {},
   "outputs": [
    {
     "name": "stdout",
     "output_type": "stream",
     "text": [
      "100\n"
     ]
    }
   ],
   "source": [
    "with open('Files/Data.txt') as f:\n",
    "    data = f.readlines()\n",
    "    print(int(data[0]))  "
   ]
  },
  {
   "cell_type": "markdown",
   "metadata": {},
   "source": [
    "- #### **`How Context works using : with keyword ??`**\n",
    "  - When Python encounters the with statement, it creates a new context. The context can optionally returns an object.\n",
    "  - After the with block, Python cleans up the context automatically.\n",
    "  - The scope of the ctx has the same scope as the with statement. It means that you can access the ctx both inside and after the with statement."
   ]
  },
  {
   "cell_type": "code",
   "execution_count": 68,
   "metadata": {},
   "outputs": [
    {
     "name": "stdout",
     "output_type": "stream",
     "text": [
      "100\n",
      "File Closing after with block of code ? : True\n"
     ]
    },
    {
     "ename": "ValueError",
     "evalue": "I/O operation on closed file.",
     "output_type": "error",
     "traceback": [
      "\u001b[0;31m---------------------------------------------------------------------------\u001b[0m",
      "\u001b[0;31mValueError\u001b[0m                                Traceback (most recent call last)",
      "\u001b[0;32m<ipython-input-68-688e01577368>\u001b[0m in \u001b[0;36m<module>\u001b[0;34m\u001b[0m\n\u001b[1;32m      5\u001b[0m \u001b[0;34m\u001b[0m\u001b[0m\n\u001b[1;32m      6\u001b[0m \u001b[0mprint\u001b[0m\u001b[0;34m(\u001b[0m\u001b[0;34m\"File Closing after with block of code ? :\"\u001b[0m\u001b[0;34m,\u001b[0m \u001b[0mf\u001b[0m\u001b[0;34m.\u001b[0m\u001b[0mclosed\u001b[0m\u001b[0;34m)\u001b[0m\u001b[0;34m\u001b[0m\u001b[0;34m\u001b[0m\u001b[0m\n\u001b[0;32m----> 7\u001b[0;31m \u001b[0mprint\u001b[0m\u001b[0;34m(\u001b[0m\u001b[0mf\u001b[0m\u001b[0;34m.\u001b[0m\u001b[0mreadlines\u001b[0m\u001b[0;34m(\u001b[0m\u001b[0;34m)\u001b[0m\u001b[0;34m)\u001b[0m\u001b[0;34m\u001b[0m\u001b[0;34m\u001b[0m\u001b[0m\n\u001b[0m",
      "\u001b[0;31mValueError\u001b[0m: I/O operation on closed file."
     ]
    }
   ],
   "source": [
    "with open('Files/Data.txt') as f:\n",
    "    data = f.readlines()\n",
    "    print(int(data[0]))\n",
    "    # print(int(data[1]))\n",
    "\n",
    "print(\"File Closing after with block of code ? :\", f.closed) \n",
    "print(f.readlines()) "
   ]
  },
  {
   "cell_type": "markdown",
   "metadata": {},
   "source": [
    "- `Observation`:\n",
    "  - We can't read data i.e., on closed file"
   ]
  },
  {
   "cell_type": "markdown",
   "metadata": {},
   "source": [
    "#### `Python context manager protocol`\n",
    "- Python context managers work based on the context manager protocol.\n",
    "- The context manager protocol has the following methods:\n",
    "  - __enter__() – setup the context and optionally return some object\n",
    "  - __exit__() – cleanup the object.\n",
    "- If you want a class to support the context manager protocol, you need to implement these two methods."
   ]
  },
  {
   "cell_type": "markdown",
   "metadata": {},
   "source": [
    "- Create Context Manager --> with statement\n",
    "- Enter the context      --> ___enter___()\n",
    "- Do Tasks               --> # Code Block\n",
    "- Exit the context       --> ___exit____()\n"
   ]
  },
  {
   "cell_type": "markdown",
   "metadata": {},
   "source": [
    "- `with - statement i.e., context manager is similar to try-catch-finally block`"
   ]
  },
  {
   "cell_type": "markdown",
   "metadata": {},
   "source": [
    "- **`Example 1`**"
   ]
  },
  {
   "cell_type": "code",
   "execution_count": 56,
   "metadata": {},
   "outputs": [
    {
     "name": "stdout",
     "output_type": "stream",
     "text": [
      "init method called\n",
      "enter method called\n",
      "['100\\n', \"'100'\"]\n",
      "100\n",
      "exit method called\n",
      "True\n"
     ]
    }
   ],
   "source": [
    "class ContextManager():\n",
    "    def __init__(self, filename, mode):\n",
    "        print('init method called')\n",
    "        self.filename = filename\n",
    "        self.mode = mode\n",
    "        self.file = None        \n",
    "          \n",
    "    def __enter__(self):\n",
    "        print('enter method called')\n",
    "        self.file = open(self.filename, self.mode)\n",
    "        return self.file\n",
    "        # return self\n",
    "\n",
    "    def __exit__(self, exc_type, exc_value, exc_traceback):\n",
    "        print('exit method called')\n",
    "        self.file.close()\n",
    "\n",
    "with ContextManager('Files/Data.txt', 'r') as f:\n",
    "        data = f.readlines()\n",
    "        print(data)\n",
    "        print(int(data[0])) \n",
    "        # print(int(data[1])) \n",
    "\n",
    "print(f.closed)"
   ]
  },
  {
   "cell_type": "markdown",
   "metadata": {},
   "source": [
    "- **`Example 2`**"
   ]
  },
  {
   "cell_type": "code",
   "execution_count": 70,
   "metadata": {},
   "outputs": [
    {
     "name": "stdout",
     "output_type": "stream",
     "text": [
      "init method called\n",
      "enter method called\n",
      "['100\\n', \"'100'\"]\n",
      "100\n",
      "invalid literal for int() with base 10: \"'100'\"\n",
      "Starting with-statement body\n",
      "exit method called\n",
      "True\n"
     ]
    }
   ],
   "source": [
    "class ContextManager():\n",
    "    def __init__(self, filename, mode):\n",
    "        print('init method called')\n",
    "        self.filename = filename\n",
    "        self.mode = mode\n",
    "        self.file = None        \n",
    "          \n",
    "    def __enter__(self):\n",
    "        print('enter method called')\n",
    "        self.file = open(self.filename, self.mode)\n",
    "        try:\n",
    "            data = self.file.readlines()\n",
    "            print(data)\n",
    "            print(int(data[0])) \n",
    "            print(int(data[1]))       \n",
    "        except Exception as e:\n",
    "            print(e)\n",
    "            return self.file\n",
    "        return self.file\n",
    "        # return self\n",
    "\n",
    "    def __exit__(self, exc_type, exc_value, exc_traceback):\n",
    "        print('exit method called')\n",
    "        self.file.close()\n",
    "\n",
    "with ContextManager('Files/Data.txt', 'r') as f:\n",
    "    print('Starting with-statement body')\n",
    "\n",
    "\n",
    "print(f.closed)"
   ]
  },
  {
   "cell_type": "markdown",
   "metadata": {},
   "source": [
    "- **`Example 3`**"
   ]
  },
  {
   "cell_type": "code",
   "execution_count": 57,
   "metadata": {},
   "outputs": [
    {
     "name": "stdout",
     "output_type": "stream",
     "text": [
      "Starting: num=20, denom=5\n",
      "Starting with-statement body\n",
      "Exception caught!\n",
      "Completed\n"
     ]
    }
   ],
   "source": [
    "log = []\n",
    "\n",
    "@contextmanager\n",
    "def division(num, denom):\n",
    "    try:\n",
    "        print(f\"Starting: num={num}, denom={denom}\")\n",
    "        yield num / denom\n",
    "    except Exception:\n",
    "        print(\"Exception caught!\")\n",
    "    finally:\n",
    "        print(\"Completed\")\n",
    "\n",
    "with division(20, 5) as div:\n",
    "    print('Starting with-statement body')\n",
    "    log.append(div)\n",
    "    raise Exception(\"Exception in with-statement body.\")\n",
    "    print(\"Log updated!\")"
   ]
  },
  {
   "cell_type": "markdown",
   "metadata": {},
   "source": [
    "- **`Example 4`**"
   ]
  },
  {
   "cell_type": "code",
   "execution_count": 66,
   "metadata": {},
   "outputs": [
    {
     "name": "stdout",
     "output_type": "stream",
     "text": [
      "Starting with-statement body\n",
      "['100\\n', \"'100'\"]\n",
      "100\n",
      "Exception caught!\n",
      "Completed\n",
      "<_io.TextIOWrapper name='Files/Data.txt' mode='r' encoding='UTF-8'>\n"
     ]
    }
   ],
   "source": [
    "log = []\n",
    "\n",
    "@contextmanager\n",
    "def read_file(filename, mode):\n",
    "    try:\n",
    "        f = open(filename, mode)\n",
    "        data = f.readlines()\n",
    "        yield f\n",
    "        print(data)\n",
    "        print(int(data[0])) \n",
    "        print(int(data[1])) \n",
    "    except Exception:\n",
    "        print(\"Exception caught!\")\n",
    "    finally:\n",
    "        f.close()\n",
    "        print(\"Completed\")\n",
    "\n",
    "with read_file('Files/Data.txt', 'r') as f:\n",
    "    print('Starting with-statement body')\n",
    "\n",
    "print(f)"
   ]
  },
  {
   "cell_type": "markdown",
   "metadata": {},
   "source": [
    "#### `Applications`\n",
    "\n",
    "- Python context manager applications\n",
    "- As you see from the previous example, the common usage of a context manager is to open and close files automatically.\n",
    "- However, you can use context managers in many other cases:\n",
    "- `1) Open – Close`\n",
    "- If you want to open and close a resource automatically, you can use a context manager.\n",
    "- For example, you can open a socket and close it using a context manager.\n",
    "- `2) Lock – release`\n",
    "- Context managers can help you manage locks for objects more effectively. They allow you to acquire a lock and release it automatically.\n",
    "- `3) Start – stop`\n",
    "- Context managers also help you to work with a scenario that requires the start and stop phases.\n",
    "- For example, you can use a context manager to start a timer and stop it automatically.\n",
    "- `4) Change – reset`\n",
    "- Context managers can work with change and reset scenario.\n",
    "- For example, your application needs to connect to multiple data sources. And it has a default connection.\n",
    "    - To connect to another data source:\n",
    "    - First, use a context manager to change the default connection to a new one.\n",
    "    - Second, work with the new connection\n",
    "    - Third, reset it back to the default connection once you complete working with the new connection."
   ]
  },
  {
   "cell_type": "markdown",
   "metadata": {},
   "source": [
    "#### `Reference`\n",
    "- https://www.pythontutorial.net/advanced-python/python-context-managers/\n",
    "- https://www.geeksforgeeks.org/context-manager-in-python/\n",
    "- https://rmoralesdelgado.com/all/python-context-managers-contextlib/"
   ]
  }
 ],
 "metadata": {
  "interpreter": {
   "hash": "40d3a090f54c6569ab1632332b64b2c03c39dcf918b08424e98f38b5ae0af88f"
  },
  "kernelspec": {
   "display_name": "Python 3.7.4 64-bit ('base': conda)",
   "name": "python3"
  },
  "language_info": {
   "codemirror_mode": {
    "name": "ipython",
    "version": 3
   },
   "file_extension": ".py",
   "mimetype": "text/x-python",
   "name": "python",
   "nbconvert_exporter": "python",
   "pygments_lexer": "ipython3",
   "version": "3.7.4"
  },
  "orig_nbformat": 4
 },
 "nbformat": 4,
 "nbformat_minor": 2
}
