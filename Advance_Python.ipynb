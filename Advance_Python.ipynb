{
 "cells": [
  {
   "cell_type": "markdown",
   "metadata": {},
   "source": [
    "### `How Everything in python is Object?`"
   ]
  },
  {
   "cell_type": "code",
   "execution_count": 12,
   "metadata": {},
   "outputs": [
    {
     "name": "stdout",
     "output_type": "stream",
     "text": [
      "say hello\n",
      "say hello\n"
     ]
    }
   ],
   "source": [
    "def hello():\n",
    "    print(\"say hello\")\n",
    "\n",
    "hi = hello\n",
    "\n",
    "hi()\n",
    "\n",
    "hello()"
   ]
  },
  {
   "cell_type": "markdown",
   "metadata": {},
   "source": [
    "### `Comprehension`\n",
    "- The shorthand syntax for creating collections and iterable objects."
   ]
  },
  {
   "cell_type": "code",
   "execution_count": 15,
   "metadata": {},
   "outputs": [],
   "source": [
    "items = [\"apple\",\"mango\",\"banana\"]"
   ]
  },
  {
   "cell_type": "markdown",
   "metadata": {},
   "source": [
    "- **`List Comprehension:`**"
   ]
  },
  {
   "cell_type": "code",
   "execution_count": 23,
   "metadata": {},
   "outputs": [
    {
     "name": "stdout",
     "output_type": "stream",
     "text": [
      "[False, True, False]\n",
      "['NA', 'mango', 'NA']\n"
     ]
    }
   ],
   "source": [
    "print([item==\"mango\" for item in items])\n",
    "print([item if item==\"mango\" else \"NA\" for item in items])"
   ]
  },
  {
   "cell_type": "markdown",
   "metadata": {},
   "source": [
    "### `Set Comprehension`"
   ]
  },
  {
   "cell_type": "code",
   "execution_count": 24,
   "metadata": {},
   "outputs": [
    {
     "name": "stdout",
     "output_type": "stream",
     "text": [
      "{'mango', 'NA'}\n"
     ]
    }
   ],
   "source": [
    "print({ item if item==\"mango\" else \"NA\" for item in items })"
   ]
  },
  {
   "cell_type": "markdown",
   "metadata": {},
   "source": [
    "### `Dictionary Comprehension`"
   ]
  },
  {
   "cell_type": "code",
   "execution_count": 52,
   "metadata": {},
   "outputs": [
    {
     "name": "stdout",
     "output_type": "stream",
     "text": [
      "{'id1': 'mango', 'id2': 'banana'}\n",
      "dict_items([('id1', 'mango'), ('id2', 'banana')])\n",
      "[('id1', 'mango'), ('id2', 'banana')]\n",
      "['id1', 'id2']\n",
      "['mango', 'banana']\n",
      "{('id1', 'mango'), ('id2', 'banana')}\n",
      "{'id1', 'id2'}\n",
      "{False, True}\n",
      "{'id1', 'NA'}\n",
      "{'mango', 'NA'}\n"
     ]
    }
   ],
   "source": [
    "dict = {\"id1\":\"mango\",\"id2\":\"banana\"}\n",
    "\n",
    "print(dict)\n",
    "print(dict.items())\n",
    "print(list(dict.items()))\n",
    "print(list(key for key, value in dict.items()))\n",
    "print(list(value for key, value in dict.items()))\n",
    "print({item for item in dict.items()})\n",
    "print({key for key,value in dict.items()})\n",
    "print({key==\"id1\" for key, value in dict.items()})\n",
    "print({key if key==\"id1\" else \"NA\" for key, value in dict.items()})\n",
    "print({value if key==\"id1\" else \"NA\" for key, value in dict.items()})"
   ]
  },
  {
   "cell_type": "markdown",
   "metadata": {},
   "source": [
    "### `Multiple Comprehension`"
   ]
  },
  {
   "cell_type": "code",
   "execution_count": 56,
   "metadata": {},
   "outputs": [
    {
     "name": "stdout",
     "output_type": "stream",
     "text": [
      "[(0, 0), (0, 1), (0, 2), (1, 0), (1, 1), (1, 2), (2, 0), (2, 1), (2, 2), (3, 0), (3, 1), (3, 2), (4, 0), (4, 1), (4, 2)]\n",
      "[(0, 0), (0, 1), (0, 2), (1, 0), (1, 1), (1, 2), (2, 0), (2, 1), (2, 2), (3, 0), (3, 1), (3, 2), (4, 0), (4, 1), (4, 2)]\n"
     ]
    }
   ],
   "source": [
    "# One Way\n",
    "values = [(x,y) for x in range(5) for y in range(3)]\n",
    "print(values)\n",
    "\n",
    "# Second Way\n",
    "values = []\n",
    "for x in range(5):\n",
    "    for y in range(3):\n",
    "        values.append((x,y))\n",
    "print(values)"
   ]
  },
  {
   "cell_type": "markdown",
   "metadata": {},
   "source": [
    "### `Nested Comprehension`"
   ]
  },
  {
   "cell_type": "code",
   "execution_count": 59,
   "metadata": {},
   "outputs": [
    {
     "name": "stdout",
     "output_type": "stream",
     "text": [
      "[[], [0], [0, 3], [0, 3, 6], [0, 3, 6, 9], [0, 3, 6, 9, 12], [0, 3, 6, 9, 12, 15], [0, 3, 6, 9, 12, 15, 18], [0, 3, 6, 9, 12, 15, 18, 21], [0, 3, 6, 9, 12, 15, 18, 21, 24]]\n",
      "[[], [0], [0, 3], [0, 3, 6], [0, 3, 6, 9], [0, 3, 6, 9, 12], [0, 3, 6, 9, 12, 15], [0, 3, 6, 9, 12, 15, 18], [0, 3, 6, 9, 12, 15, 18, 21], [0, 3, 6, 9, 12, 15, 18, 21, 24]]\n"
     ]
    }
   ],
   "source": [
    "# One Way\n",
    "values = [[y*3 for y in range(x)] for x in range(10)]\n",
    "print(values)\n",
    "\n",
    "# Second Way\n",
    "values = []\n",
    "for x in range(10):\n",
    "    inner = []\n",
    "    for y in range(x):\n",
    "        inner.append(y*3)\n",
    "    values.append(inner)\n",
    "print(values)"
   ]
  },
  {
   "cell_type": "markdown",
   "metadata": {},
   "source": [
    "### `Extended Keyword Arguments`"
   ]
  },
  {
   "cell_type": "code",
   "execution_count": 68,
   "metadata": {},
   "outputs": [
    {
     "name": "stdout",
     "output_type": "stream",
     "text": [
      "lengths -->  (1, 2, 3, 4, 5)\n",
      "i -->  <tuple_iterator object at 0x7f90ca556b50>\n",
      "v -->  1\n",
      "next(i) -->  2\n",
      "next(i) -->  3\n",
      "Inside Loop :\n",
      "     >> v -->  1\n",
      "     >> length -->  4\n",
      "     >> v -->  4\n",
      "     >> length -->  5\n",
      "Final Output:  20\n"
     ]
    }
   ],
   "source": [
    "def hyperVolume(*lengths):\n",
    "    i = iter(lengths)\n",
    "    print(\"lengths --> \", lengths)\n",
    "    print(\"i --> \", i)\n",
    "    v = next(i)\n",
    "    print(\"v --> \", v)\n",
    "    print(\"next(i) --> \", next(i))\n",
    "    print(\"next(i) --> \", next(i))\n",
    "    print(\"Inside Loop :\")\n",
    "    for length in i:\n",
    "        print(\"     >> v --> \", v)\n",
    "        print(\"     >> length --> \", length)\n",
    "        v *= length\n",
    "    return v\n",
    "\n",
    "print(\"Final Output: \", hyperVolume(1, 2, 3, 4, 5))"
   ]
  },
  {
   "cell_type": "code",
   "execution_count": 89,
   "metadata": {},
   "outputs": [
    {
     "name": "stdout",
     "output_type": "stream",
     "text": [
      "*args\n",
      "----------\n",
      "1\n",
      "2\n",
      "<class 'tuple'>\n",
      "(3, 4, 5)\n",
      "\n",
      "\n",
      "**kwargv\n",
      "----------\n",
      "<class 'dict'>\n",
      "{'a': 'a'}\n",
      "<class 'dict'>\n",
      "{'1': '1', '2': '2', '3': '3', '4': '4', '5': '5'}\n"
     ]
    }
   ],
   "source": [
    "# *args => tuple\n",
    "# **kwargs => dict\n",
    "def sample_func1(arg1, arg2, *args):\n",
    "    print(\"*args\")\n",
    "    print(\"--\"*5)\n",
    "    print(arg1)\n",
    "    print(arg2)\n",
    "    print(type(args))\n",
    "    print(args)\n",
    "    print(\"\\n\")\n",
    "\n",
    "def sample_func2(kwarg1, **kwargv):\n",
    "    print(\"**kwargv\")\n",
    "    print(\"--\"*5)\n",
    "    print(type(kwarg1))\n",
    "    print(kwarg1)\n",
    "    print(type(kwargv))\n",
    "    print(kwargv)\n",
    "\n",
    "\n",
    "t = (1, 2, 3, 4, 5)\n",
    "sample_func1(*t)\n",
    "\n",
    "t1 = {\"a\":\"a\"}\n",
    "t2 = {\"1\":\"1\", \"2\":\"2\", \"3\":\"3\", \"4\":\"4\", \"5\":\"5\"}\n",
    "sample_func2(t1, **t2)\n",
    "\n"
   ]
  }
 ],
 "metadata": {
  "interpreter": {
   "hash": "40d3a090f54c6569ab1632332b64b2c03c39dcf918b08424e98f38b5ae0af88f"
  },
  "kernelspec": {
   "display_name": "Python 3.7.4 64-bit ('base': conda)",
   "name": "python3"
  },
  "language_info": {
   "codemirror_mode": {
    "name": "ipython",
    "version": 3
   },
   "file_extension": ".py",
   "mimetype": "text/x-python",
   "name": "python",
   "nbconvert_exporter": "python",
   "pygments_lexer": "ipython3",
   "version": "3.7.4"
  },
  "orig_nbformat": 4
 },
 "nbformat": 4,
 "nbformat_minor": 2
}
