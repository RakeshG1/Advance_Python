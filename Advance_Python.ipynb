{
 "cells": [
  {
   "cell_type": "markdown",
   "metadata": {},
   "source": [
    "### `Import Libraries`"
   ]
  },
  {
   "cell_type": "code",
   "execution_count": 3,
   "metadata": {},
   "outputs": [],
   "source": [
    "import pandas as pd\n",
    "import numpy as np\n",
    "import matplotlib\n",
    "import matplotlib.pyplot as plt\n",
    "import seaborn as sns\n",
    "from numpy import diff\n",
    "from IPython.core.display import HTML, display"
   ]
  },
  {
   "cell_type": "markdown",
   "metadata": {},
   "source": [
    "### `How Everything in python is Object?`"
   ]
  },
  {
   "cell_type": "code",
   "execution_count": 12,
   "metadata": {},
   "outputs": [
    {
     "name": "stdout",
     "output_type": "stream",
     "text": [
      "say hello\n",
      "say hello\n"
     ]
    }
   ],
   "source": [
    "def hello():\n",
    "    print(\"say hello\")\n",
    "\n",
    "hi = hello\n",
    "\n",
    "hi()\n",
    "\n",
    "hello()"
   ]
  },
  {
   "cell_type": "markdown",
   "metadata": {},
   "source": [
    "### `Comprehension`\n",
    "- The shorthand syntax for creating collections and iterable objects."
   ]
  },
  {
   "cell_type": "code",
   "execution_count": 15,
   "metadata": {},
   "outputs": [],
   "source": [
    "items = [\"apple\",\"mango\",\"banana\"]"
   ]
  },
  {
   "cell_type": "markdown",
   "metadata": {},
   "source": [
    "- **`List Comprehension:`**"
   ]
  },
  {
   "cell_type": "code",
   "execution_count": 23,
   "metadata": {},
   "outputs": [
    {
     "name": "stdout",
     "output_type": "stream",
     "text": [
      "[False, True, False]\n",
      "['NA', 'mango', 'NA']\n"
     ]
    }
   ],
   "source": [
    "print([item==\"mango\" for item in items])\n",
    "print([item if item==\"mango\" else \"NA\" for item in items])"
   ]
  },
  {
   "cell_type": "markdown",
   "metadata": {},
   "source": [
    "### `Set Comprehension`"
   ]
  },
  {
   "cell_type": "code",
   "execution_count": 24,
   "metadata": {},
   "outputs": [
    {
     "name": "stdout",
     "output_type": "stream",
     "text": [
      "{'mango', 'NA'}\n"
     ]
    }
   ],
   "source": [
    "print({ item if item==\"mango\" else \"NA\" for item in items })"
   ]
  },
  {
   "cell_type": "markdown",
   "metadata": {},
   "source": [
    "### `Dictionary Comprehension`"
   ]
  },
  {
   "cell_type": "code",
   "execution_count": 52,
   "metadata": {},
   "outputs": [
    {
     "name": "stdout",
     "output_type": "stream",
     "text": [
      "{'id1': 'mango', 'id2': 'banana'}\n",
      "dict_items([('id1', 'mango'), ('id2', 'banana')])\n",
      "[('id1', 'mango'), ('id2', 'banana')]\n",
      "['id1', 'id2']\n",
      "['mango', 'banana']\n",
      "{('id1', 'mango'), ('id2', 'banana')}\n",
      "{'id1', 'id2'}\n",
      "{False, True}\n",
      "{'id1', 'NA'}\n",
      "{'mango', 'NA'}\n"
     ]
    }
   ],
   "source": [
    "dict = {\"id1\":\"mango\",\"id2\":\"banana\"}\n",
    "\n",
    "print(dict)\n",
    "print(dict.items())\n",
    "print(list(dict.items()))\n",
    "print(list(key for key, value in dict.items()))\n",
    "print(list(value for key, value in dict.items()))\n",
    "print({item for item in dict.items()})\n",
    "print({key for key,value in dict.items()})\n",
    "print({key==\"id1\" for key, value in dict.items()})\n",
    "print({key if key==\"id1\" else \"NA\" for key, value in dict.items()})\n",
    "print({value if key==\"id1\" else \"NA\" for key, value in dict.items()})"
   ]
  },
  {
   "cell_type": "markdown",
   "metadata": {},
   "source": [
    "### `Multiple Comprehension`"
   ]
  },
  {
   "cell_type": "code",
   "execution_count": 56,
   "metadata": {},
   "outputs": [
    {
     "name": "stdout",
     "output_type": "stream",
     "text": [
      "[(0, 0), (0, 1), (0, 2), (1, 0), (1, 1), (1, 2), (2, 0), (2, 1), (2, 2), (3, 0), (3, 1), (3, 2), (4, 0), (4, 1), (4, 2)]\n",
      "[(0, 0), (0, 1), (0, 2), (1, 0), (1, 1), (1, 2), (2, 0), (2, 1), (2, 2), (3, 0), (3, 1), (3, 2), (4, 0), (4, 1), (4, 2)]\n"
     ]
    }
   ],
   "source": [
    "# One Way\n",
    "values = [(x,y) for x in range(5) for y in range(3)]\n",
    "print(values)\n",
    "\n",
    "# Second Way\n",
    "values = []\n",
    "for x in range(5):\n",
    "    for y in range(3):\n",
    "        values.append((x,y))\n",
    "print(values)"
   ]
  },
  {
   "cell_type": "markdown",
   "metadata": {},
   "source": [
    "### `Nested Comprehension`"
   ]
  },
  {
   "cell_type": "code",
   "execution_count": 59,
   "metadata": {},
   "outputs": [
    {
     "name": "stdout",
     "output_type": "stream",
     "text": [
      "[[], [0], [0, 3], [0, 3, 6], [0, 3, 6, 9], [0, 3, 6, 9, 12], [0, 3, 6, 9, 12, 15], [0, 3, 6, 9, 12, 15, 18], [0, 3, 6, 9, 12, 15, 18, 21], [0, 3, 6, 9, 12, 15, 18, 21, 24]]\n",
      "[[], [0], [0, 3], [0, 3, 6], [0, 3, 6, 9], [0, 3, 6, 9, 12], [0, 3, 6, 9, 12, 15], [0, 3, 6, 9, 12, 15, 18], [0, 3, 6, 9, 12, 15, 18, 21], [0, 3, 6, 9, 12, 15, 18, 21, 24]]\n"
     ]
    }
   ],
   "source": [
    "# One Way\n",
    "values = [[y*3 for y in range(x)] for x in range(10)]\n",
    "print(values)\n",
    "\n",
    "# Second Way\n",
    "values = []\n",
    "for x in range(10):\n",
    "    inner = []\n",
    "    for y in range(x):\n",
    "        inner.append(y*3)\n",
    "    values.append(inner)\n",
    "print(values)"
   ]
  },
  {
   "cell_type": "markdown",
   "metadata": {},
   "source": [
    "### `Extended Keyword Arguments`"
   ]
  },
  {
   "cell_type": "code",
   "execution_count": 68,
   "metadata": {},
   "outputs": [
    {
     "name": "stdout",
     "output_type": "stream",
     "text": [
      "lengths -->  (1, 2, 3, 4, 5)\n",
      "i -->  <tuple_iterator object at 0x7f90ca556b50>\n",
      "v -->  1\n",
      "next(i) -->  2\n",
      "next(i) -->  3\n",
      "Inside Loop :\n",
      "     >> v -->  1\n",
      "     >> length -->  4\n",
      "     >> v -->  4\n",
      "     >> length -->  5\n",
      "Final Output:  20\n"
     ]
    }
   ],
   "source": [
    "def hyperVolume(*lengths):\n",
    "    i = iter(lengths)\n",
    "    print(\"lengths --> \", lengths)\n",
    "    print(\"i --> \", i)\n",
    "    v = next(i)\n",
    "    print(\"v --> \", v)\n",
    "    print(\"next(i) --> \", next(i))\n",
    "    print(\"next(i) --> \", next(i))\n",
    "    print(\"Inside Loop :\")\n",
    "    for length in i:\n",
    "        print(\"     >> v --> \", v)\n",
    "        print(\"     >> length --> \", length)\n",
    "        v *= length\n",
    "    return v\n",
    "\n",
    "print(\"Final Output: \", hyperVolume(1, 2, 3, 4, 5))"
   ]
  },
  {
   "cell_type": "code",
   "execution_count": 89,
   "metadata": {},
   "outputs": [
    {
     "name": "stdout",
     "output_type": "stream",
     "text": [
      "*args\n",
      "----------\n",
      "1\n",
      "2\n",
      "<class 'tuple'>\n",
      "(3, 4, 5)\n",
      "\n",
      "\n",
      "**kwargv\n",
      "----------\n",
      "<class 'dict'>\n",
      "{'a': 'a'}\n",
      "<class 'dict'>\n",
      "{'1': '1', '2': '2', '3': '3', '4': '4', '5': '5'}\n"
     ]
    }
   ],
   "source": [
    "# *args => tuple\n",
    "# **kwargs => dict\n",
    "def sample_func1(arg1, arg2, *args):\n",
    "    print(\"*args\")\n",
    "    print(\"--\"*5)\n",
    "    print(arg1)\n",
    "    print(arg2)\n",
    "    print(type(args))\n",
    "    print(args)\n",
    "    print(\"\\n\")\n",
    "\n",
    "def sample_func2(kwarg1, **kwargv):\n",
    "    print(\"**kwargv\")\n",
    "    print(\"--\"*5)\n",
    "    print(type(kwarg1))\n",
    "    print(kwarg1)\n",
    "    print(type(kwargv))\n",
    "    print(kwargv)\n",
    "\n",
    "\n",
    "t = (1, 2, 3, 4, 5)\n",
    "sample_func1(*t)\n",
    "\n",
    "t1 = {\"a\":\"a\"}\n",
    "t2 = {\"1\":\"1\", \"2\":\"2\", \"3\":\"3\", \"4\":\"4\", \"5\":\"5\"}\n",
    "sample_func2(t1, **t2)\n",
    "\n"
   ]
  },
  {
   "cell_type": "markdown",
   "metadata": {},
   "source": [
    "### `HTML display`"
   ]
  },
  {
   "cell_type": "code",
   "execution_count": 6,
   "metadata": {},
   "outputs": [
    {
     "data": {
      "text/html": [
       "<h1>Hello, world!</h1>"
      ],
      "text/plain": [
       "<IPython.core.display.HTML object>"
      ]
     },
     "metadata": {},
     "output_type": "display_data"
    },
    {
     "data": {
      "text/html": [
       "<table border=\"1\" class=\"dataframe\">\n",
       "  <thead>\n",
       "    <tr style=\"text-align: right;\">\n",
       "      <th></th>\n",
       "      <th>a</th>\n",
       "      <th>b</th>\n",
       "      <th>starttimestamp</th>\n",
       "    </tr>\n",
       "  </thead>\n",
       "  <tbody>\n",
       "    <tr>\n",
       "      <th>0</th>\n",
       "      <td>1</td>\n",
       "      <td>sdfsdfsdffsfcdgfhgfhfghsfafdsgfdhgfjfgnghkuiukj,hjhjdfgdsfsadsdf</td>\n",
       "      <td>2021-01-10T01:01:23Z</td>\n",
       "    </tr>\n",
       "    <tr>\n",
       "      <th>1</th>\n",
       "      <td>2</td>\n",
       "      <td>sdfsdf</td>\n",
       "      <td>2021-01-10T02:01:23Z</td>\n",
       "    </tr>\n",
       "  </tbody>\n",
       "</table>"
      ],
      "text/plain": [
       "<IPython.core.display.HTML object>"
      ]
     },
     "metadata": {},
     "output_type": "display_data"
    },
    {
     "data": {
      "text/html": [
       "<div>\n",
       "<style scoped>\n",
       "    .dataframe tbody tr th:only-of-type {\n",
       "        vertical-align: middle;\n",
       "    }\n",
       "\n",
       "    .dataframe tbody tr th {\n",
       "        vertical-align: top;\n",
       "    }\n",
       "\n",
       "    .dataframe thead th {\n",
       "        text-align: right;\n",
       "    }\n",
       "</style>\n",
       "<table border=\"1\" class=\"dataframe\">\n",
       "  <thead>\n",
       "    <tr style=\"text-align: right;\">\n",
       "      <th></th>\n",
       "      <th>a</th>\n",
       "      <th>b</th>\n",
       "      <th>starttimestamp</th>\n",
       "    </tr>\n",
       "  </thead>\n",
       "  <tbody>\n",
       "    <tr>\n",
       "      <td>0</td>\n",
       "      <td>1</td>\n",
       "      <td>sdfsdfsdffsfcdgfhgfhfghsfafdsgfdhgfjfgnghkuiuk...</td>\n",
       "      <td>2021-01-10T01:01:23Z</td>\n",
       "    </tr>\n",
       "    <tr>\n",
       "      <td>1</td>\n",
       "      <td>2</td>\n",
       "      <td>sdfsdf</td>\n",
       "      <td>2021-01-10T02:01:23Z</td>\n",
       "    </tr>\n",
       "  </tbody>\n",
       "</table>\n",
       "</div>"
      ],
      "text/plain": [
       "   a                                                  b        starttimestamp\n",
       "0  1  sdfsdfsdffsfcdgfhgfhfghsfafdsgfdhgfjfgnghkuiuk...  2021-01-10T01:01:23Z\n",
       "1  2                                             sdfsdf  2021-01-10T02:01:23Z"
      ]
     },
     "execution_count": 6,
     "metadata": {},
     "output_type": "execute_result"
    }
   ],
   "source": [
    "display(HTML(\"<h1>Hello, world!</h1>\"))\n",
    "\n",
    "df_sample = pd.DataFrame({\"a\":[1,2], \"b\":[\"sdfsdfsdffsfcdgfhgfhfghsfafdsgfdhgfjfgnghkuiukj,hjhjdfgdsfsadsdf\",\"sdfsdf\"], \n",
    "                          \"starttimestamp\":[\"2021-01-10T01:01:23Z\",\"2021-01-10T02:01:23Z\"]})\n",
    "\n",
    "display(HTML(df_sample.to_html())) # This shows complete content in the dataframe\n",
    "df_sample"
   ]
  },
  {
   "cell_type": "markdown",
   "metadata": {},
   "source": [
    "### `Converting Datetime into Required format`"
   ]
  },
  {
   "cell_type": "code",
   "execution_count": 8,
   "metadata": {},
   "outputs": [],
   "source": [
    "df_sample[\"starttimestamp\"] = pd.to_datetime(df_sample[\"starttimestamp\"]).dt.strftime(\"%Y-%m-%d %H:%M:%S\") # Convert into string datatype format\n",
    "df_sample[\"starttimestamp\"] = pd.to_datetime(df_sample[\"starttimestamp\"]) # Convert into datetime datatype format"
   ]
  },
  {
   "cell_type": "markdown",
   "metadata": {},
   "source": [
    "### `Sorting data using Datetime`"
   ]
  },
  {
   "cell_type": "code",
   "execution_count": 10,
   "metadata": {},
   "outputs": [
    {
     "data": {
      "text/html": [
       "<table border=\"1\" class=\"dataframe\">\n",
       "  <thead>\n",
       "    <tr style=\"text-align: right;\">\n",
       "      <th></th>\n",
       "      <th>a</th>\n",
       "      <th>b</th>\n",
       "      <th>starttimestamp</th>\n",
       "    </tr>\n",
       "  </thead>\n",
       "  <tbody>\n",
       "    <tr>\n",
       "      <th>0</th>\n",
       "      <td>1</td>\n",
       "      <td>sdfsdfsdffsfcdgfhgfhfghsfafdsgfdhgfjfgnghkuiukj,hjhjdfgdsfsadsdf</td>\n",
       "      <td>2021-01-10 01:01:23</td>\n",
       "    </tr>\n",
       "    <tr>\n",
       "      <th>1</th>\n",
       "      <td>2</td>\n",
       "      <td>sdfsdf</td>\n",
       "      <td>2021-01-10 02:01:23</td>\n",
       "    </tr>\n",
       "  </tbody>\n",
       "</table>"
      ],
      "text/plain": [
       "<IPython.core.display.HTML object>"
      ]
     },
     "metadata": {},
     "output_type": "display_data"
    }
   ],
   "source": [
    "df_sample.sort_values(by=[\"starttimestamp\"], ascending=True, inplace=True)\n",
    "\n",
    "display(HTML(df_sample.to_html()))"
   ]
  },
  {
   "cell_type": "markdown",
   "metadata": {},
   "source": [
    "### `Getting Year, Month, Date from Datetime column`"
   ]
  },
  {
   "cell_type": "code",
   "execution_count": 11,
   "metadata": {},
   "outputs": [
    {
     "data": {
      "text/html": [
       "<table border=\"1\" class=\"dataframe\">\n",
       "  <thead>\n",
       "    <tr style=\"text-align: right;\">\n",
       "      <th></th>\n",
       "      <th>a</th>\n",
       "      <th>b</th>\n",
       "      <th>starttimestamp</th>\n",
       "      <th>Year</th>\n",
       "      <th>Month</th>\n",
       "      <th>Date</th>\n",
       "    </tr>\n",
       "  </thead>\n",
       "  <tbody>\n",
       "    <tr>\n",
       "      <th>0</th>\n",
       "      <td>1</td>\n",
       "      <td>sdfsdfsdffsfcdgfhgfhfghsfafdsgfdhgfjfgnghkuiukj,hjhjdfgdsfsadsdf</td>\n",
       "      <td>2021-01-10 01:01:23</td>\n",
       "      <td>2021</td>\n",
       "      <td>1</td>\n",
       "      <td>2021-01-10</td>\n",
       "    </tr>\n",
       "    <tr>\n",
       "      <th>1</th>\n",
       "      <td>2</td>\n",
       "      <td>sdfsdf</td>\n",
       "      <td>2021-01-10 02:01:23</td>\n",
       "      <td>2021</td>\n",
       "      <td>1</td>\n",
       "      <td>2021-01-10</td>\n",
       "    </tr>\n",
       "  </tbody>\n",
       "</table>"
      ],
      "text/plain": [
       "<IPython.core.display.HTML object>"
      ]
     },
     "metadata": {},
     "output_type": "display_data"
    }
   ],
   "source": [
    "df_sample[\"Year\"] = df_sample[\"starttimestamp\"].dt.year\n",
    "df_sample[\"Month\"] = df_sample[\"starttimestamp\"].dt.month\n",
    "df_sample[\"Date\"] = df_sample[\"starttimestamp\"].dt.date\n",
    "\n",
    "display(HTML(df_sample.to_html()))"
   ]
  },
  {
   "cell_type": "markdown",
   "metadata": {},
   "source": [
    "### `Dummy Variables Creation`"
   ]
  },
  {
   "cell_type": "code",
   "execution_count": 15,
   "metadata": {},
   "outputs": [
    {
     "data": {
      "text/html": [
       "<table border=\"1\" class=\"dataframe\">\n",
       "  <thead>\n",
       "    <tr style=\"text-align: right;\">\n",
       "      <th></th>\n",
       "      <th>a</th>\n",
       "      <th>b</th>\n",
       "    </tr>\n",
       "  </thead>\n",
       "  <tbody>\n",
       "    <tr>\n",
       "      <th>0</th>\n",
       "      <td>1</td>\n",
       "      <td>xxxx</td>\n",
       "    </tr>\n",
       "    <tr>\n",
       "      <th>1</th>\n",
       "      <td>2</td>\n",
       "      <td>yyyy</td>\n",
       "    </tr>\n",
       "  </tbody>\n",
       "</table>"
      ],
      "text/plain": [
       "<IPython.core.display.HTML object>"
      ]
     },
     "metadata": {},
     "output_type": "display_data"
    },
    {
     "data": {
      "text/html": [
       "<table border=\"1\" class=\"dataframe\">\n",
       "  <thead>\n",
       "    <tr style=\"text-align: right;\">\n",
       "      <th></th>\n",
       "      <th>b_xxxx</th>\n",
       "      <th>b_yyyy</th>\n",
       "    </tr>\n",
       "  </thead>\n",
       "  <tbody>\n",
       "    <tr>\n",
       "      <th>0</th>\n",
       "      <td>1</td>\n",
       "      <td>0</td>\n",
       "    </tr>\n",
       "    <tr>\n",
       "      <th>1</th>\n",
       "      <td>0</td>\n",
       "      <td>1</td>\n",
       "    </tr>\n",
       "  </tbody>\n",
       "</table>"
      ],
      "text/plain": [
       "<IPython.core.display.HTML object>"
      ]
     },
     "metadata": {},
     "output_type": "display_data"
    }
   ],
   "source": [
    "df_sample = pd.DataFrame({\"a\":[1,2], \"b\":[\"xxxx\",\"yyyy\"]})\n",
    "\n",
    "display(HTML(df_sample.to_html()))\n",
    "\n",
    "df_recipe_dummies = pd.get_dummies(df_sample.loc[:,[\"b\"]])\n",
    "\n",
    "display(HTML(df_recipe_dummies.to_html()))"
   ]
  },
  {
   "cell_type": "markdown",
   "metadata": {},
   "source": [
    "### `Check if list string element contains text`"
   ]
  },
  {
   "cell_type": "code",
   "execution_count": 17,
   "metadata": {},
   "outputs": [
    {
     "name": "stdout",
     "output_type": "stream",
     "text": [
      "['abc-123', 'abc-456']\n"
     ]
    }
   ],
   "source": [
    "some_list = [\"abc-123\", \"def-456\", \"ghi-789\", \"abc-456\"]\n",
    "\n",
    "matching = [s for s in some_list if \"abc\" in s]\n",
    "\n",
    "print(matching)"
   ]
  },
  {
   "cell_type": "markdown",
   "metadata": {},
   "source": [
    "### `Purpose of showing %matplotlib inline`\n",
    "  - In order to avoid showing pop up images & rather showing image inside the jupyter notebook "
   ]
  },
  {
   "cell_type": "markdown",
   "metadata": {},
   "source": [
    "### `Iterate between two lists`"
   ]
  },
  {
   "cell_type": "code",
   "execution_count": 22,
   "metadata": {},
   "outputs": [
    {
     "name": "stdout",
     "output_type": "stream",
     "text": [
      "One Way\n",
      "----------\n",
      "10 1\n",
      "20 2\n",
      "Second Way\n",
      "----------\n",
      "10 1\n",
      "20 2\n"
     ]
    }
   ],
   "source": [
    "foo = [10, 20]\n",
    "bar = [1, 2]\n",
    "print(\"One Way\")\n",
    "print(\"--\"*5)\n",
    "for f,b in zip(foo, bar):\n",
    "    print(f, b)\n",
    "\n",
    "# or \n",
    "\n",
    "result = zip(foo, bar)\n",
    "print(\"Second Way\")\n",
    "print(\"--\"*5)\n",
    "for res in result:\n",
    "    print(res[0], res[1])"
   ]
  },
  {
   "cell_type": "markdown",
   "metadata": {},
   "source": [
    "### `Multi dimension List into Dataframe`"
   ]
  },
  {
   "cell_type": "code",
   "execution_count": 3,
   "metadata": {},
   "outputs": [
    {
     "name": "stdout",
     "output_type": "stream",
     "text": [
      "Fruits    object\n",
      "Color     object\n",
      "Value      int64\n",
      "dtype: object\n",
      "  Fruits  Color  Value\n",
      "0  apple    red     11\n",
      "1  grape  green     22\n"
     ]
    }
   ],
   "source": [
    "# List1\n",
    "lst = [[\"apple\", \"red\", 11], [\"grape\", \"green\", 22]]\n",
    "df = pd.DataFrame(lst, columns=[\"Fruits\", \"Color\", \"Value\"], dtype=int)\n",
    "print(df.dtypes)\n",
    "print(df)"
   ]
  },
  {
   "cell_type": "markdown",
   "metadata": {},
   "source": [
    "### `Append two dataframes`"
   ]
  },
  {
   "cell_type": "code",
   "execution_count": 5,
   "metadata": {},
   "outputs": [
    {
     "name": "stdout",
     "output_type": "stream",
     "text": [
      "Appending df_1 :\n",
      "------------\n",
      "   A   B\n",
      "0  1  10\n",
      "1  2  20\n",
      "Appending df_1 + df_2 :\n",
      "------------------------\n",
      "    A    B       c\n",
      "0   1   10     NaN\n",
      "1   2   20     NaN\n",
      "2  11  111  1111.0\n",
      "3  22  222  2222.0\n"
     ]
    }
   ],
   "source": [
    "df_1 = pd.DataFrame({\"A\":[1,2],\"B\":[10,20]})\n",
    "df_2 = pd.DataFrame({\"A\":[11,22],\"B\":[111,222],\"c\":[1111,2222]})\n",
    "\n",
    "df_final = pd.DataFrame({})\n",
    "\n",
    "df_final = df_final.append(df_1, ignore_index=True)\n",
    "print(\"Appending df_1 :\")\n",
    "print(\"--\"*6)\n",
    "print(df_final)\n",
    "\n",
    "df_final = df_final.append(df_2, ignore_index=True)\n",
    "print(\"Appending df_1 + df_2 :\")\n",
    "print(\"--\"*12)\n",
    "print(df_final)"
   ]
  },
  {
   "cell_type": "markdown",
   "metadata": {},
   "source": [
    "### `Replace Value`"
   ]
  },
  {
   "cell_type": "code",
   "execution_count": 7,
   "metadata": {},
   "outputs": [
    {
     "name": "stdout",
     "output_type": "stream",
     "text": [
      "   col1  col2  col3\n",
      "0     1    11    10\n",
      "1     2    22    20\n"
     ]
    },
    {
     "data": {
      "text/html": [
       "<div>\n",
       "<style scoped>\n",
       "    .dataframe tbody tr th:only-of-type {\n",
       "        vertical-align: middle;\n",
       "    }\n",
       "\n",
       "    .dataframe tbody tr th {\n",
       "        vertical-align: top;\n",
       "    }\n",
       "\n",
       "    .dataframe thead th {\n",
       "        text-align: right;\n",
       "    }\n",
       "</style>\n",
       "<table border=\"1\" class=\"dataframe\">\n",
       "  <thead>\n",
       "    <tr style=\"text-align: right;\">\n",
       "      <th></th>\n",
       "      <th>col1</th>\n",
       "      <th>col2</th>\n",
       "      <th>col3</th>\n",
       "    </tr>\n",
       "  </thead>\n",
       "  <tbody>\n",
       "    <tr>\n",
       "      <td>0</td>\n",
       "      <td>1</td>\n",
       "      <td>101</td>\n",
       "      <td>10</td>\n",
       "    </tr>\n",
       "    <tr>\n",
       "      <td>1</td>\n",
       "      <td>2</td>\n",
       "      <td>22</td>\n",
       "      <td>20</td>\n",
       "    </tr>\n",
       "  </tbody>\n",
       "</table>\n",
       "</div>"
      ],
      "text/plain": [
       "   col1  col2  col3\n",
       "0     1   101    10\n",
       "1     2    22    20"
      ]
     },
     "execution_count": 7,
     "metadata": {},
     "output_type": "execute_result"
    }
   ],
   "source": [
    "df = pd.DataFrame({\"col1\":[1,2], \"col2\":[11,22], \"col3\":[10,20]})\n",
    "print(df)\n",
    "df= df.replace(to_replace=11, value=101, method='ffill')\n",
    "df"
   ]
  },
  {
   "cell_type": "markdown",
   "metadata": {},
   "source": [
    "### `Looping On Multiple Columns`"
   ]
  },
  {
   "cell_type": "code",
   "execution_count": 5,
   "metadata": {},
   "outputs": [
    {
     "name": "stdout",
     "output_type": "stream",
     "text": [
      "1 11 10\n",
      "2 22 20\n"
     ]
    }
   ],
   "source": [
    "df = pd.DataFrame({\"col1\":[1,2], \"col2\":[11,22], \"col3\":[10,20]})\n",
    "\n",
    "for col1, col2, col3 in zip(df['col1'], df['col2'], df['col3']):\n",
    "    print(col1, col2, col3)\n"
   ]
  },
  {
   "cell_type": "markdown",
   "metadata": {},
   "source": [
    "### `1st Derivative / Gradient Descent on Single array`"
   ]
  },
  {
   "cell_type": "code",
   "execution_count": 2,
   "metadata": {},
   "outputs": [
    {
     "name": "stdout",
     "output_type": "stream",
     "text": [
      "[ -2.  22. -16.  10.  11.  -9.]\n"
     ]
    }
   ],
   "source": [
    "dx = 1\n",
    "y = [10, 8, 30, 14, 24, 35, 26]\n",
    "dy = diff(y)/dx\n",
    "print(dy)"
   ]
  },
  {
   "cell_type": "code",
   "execution_count": 3,
   "metadata": {},
   "outputs": [
    {
     "name": "stdout",
     "output_type": "stream",
     "text": [
      "[ -2  22 -16  10  11  -9]\n"
     ]
    }
   ],
   "source": [
    "y = [10, 8, 30, 14, 24, 35, 26]\n",
    "dy = diff(y)\n",
    "print(dy)"
   ]
  },
  {
   "cell_type": "markdown",
   "metadata": {},
   "source": [
    "### `Pop python list` "
   ]
  },
  {
   "cell_type": "code",
   "execution_count": 4,
   "metadata": {},
   "outputs": [
    {
     "name": "stdout",
     "output_type": "stream",
     "text": [
      "[1, 2, 3, 4]\n",
      "[1, 2, 3]\n"
     ]
    }
   ],
   "source": [
    "l = list(range(1, 5))\n",
    "print(l)    # [1, 2, 3, 4]\n",
    "l.pop()\n",
    "print(l)    # [1, 2, 3]"
   ]
  },
  {
   "cell_type": "code",
   "execution_count": null,
   "metadata": {},
   "outputs": [],
   "source": []
  }
 ],
 "metadata": {
  "interpreter": {
   "hash": "40d3a090f54c6569ab1632332b64b2c03c39dcf918b08424e98f38b5ae0af88f"
  },
  "kernelspec": {
   "display_name": "Python 3.7.4 64-bit ('base': conda)",
   "name": "python3"
  },
  "language_info": {
   "codemirror_mode": {
    "name": "ipython",
    "version": 3
   },
   "file_extension": ".py",
   "mimetype": "text/x-python",
   "name": "python",
   "nbconvert_exporter": "python",
   "pygments_lexer": "ipython3",
   "version": "3.7.4"
  },
  "orig_nbformat": 4
 },
 "nbformat": 4,
 "nbformat_minor": 2
}
