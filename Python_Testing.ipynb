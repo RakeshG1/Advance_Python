{
 "cells": [
  {
   "cell_type": "markdown",
   "metadata": {},
   "source": [
    "#### `Unit Test`\n",
    "- Used to test small parts of source code logic, whether they are exihibiting same service like intended "
   ]
  },
  {
   "cell_type": "markdown",
   "metadata": {},
   "source": [
    "- `TestCase Framework`"
   ]
  },
  {
   "cell_type": "code",
   "execution_count": 2,
   "metadata": {},
   "outputs": [],
   "source": [
    "import unittest"
   ]
  },
  {
   "cell_type": "markdown",
   "metadata": {},
   "source": [
    "- `TestCase Creation`"
   ]
  },
  {
   "cell_type": "code",
   "execution_count": 3,
   "metadata": {},
   "outputs": [
    {
     "name": "stderr",
     "output_type": "stream",
     "text": [
      "test_do_addition_1 (__main__.ExampleTestCase) ... ok\n",
      "test_do_addition_2 (__main__.ExampleTestCase) ... FAIL\n",
      "\n",
      "======================================================================\n",
      "FAIL: test_do_addition_2 (__main__.ExampleTestCase)\n",
      "----------------------------------------------------------------------\n",
      "Traceback (most recent call last):\n",
      "  File \"<ipython-input-3-6af6227b7884>\", line 39, in test_do_addition_2\n",
      "    self.assertEqual(do_addition_2(test_x_value, test_y_value), 30, \"Equal to 30\")\n",
      "AssertionError: 200 != 30 : Equal to 30\n",
      "\n",
      "----------------------------------------------------------------------\n",
      "Ran 2 tests in 0.040s\n",
      "\n",
      "FAILED (failures=1)\n"
     ]
    }
   ],
   "source": [
    "def do_addition_1(x=0, y=0):\n",
    "    '''  \n",
    "    Do addition x + y\n",
    "    @param : x - value\n",
    "    @param : y - value\n",
    "    '''\n",
    "    # print(x, y)\n",
    "    ##### Doing Addition #####\n",
    "    return x+y\n",
    "\n",
    "def do_addition_2(x=0, y=0):\n",
    "    '''  \n",
    "    Do addition x + y\n",
    "    @param : x - value\n",
    "    @param : y - value\n",
    "    '''\n",
    "    # print(x, y)\n",
    "    ##### Knowingly Written Mistake in Code #####\n",
    "    return x*y    \n",
    "\n",
    "class ExampleTestCase(unittest.TestCase):\n",
    "    '''  \n",
    "    Example Test Case\n",
    "    '''    \n",
    "    def test_do_addition_1(self):\n",
    "        ''' \n",
    "        Testing on do_addition_1() function\n",
    "        '''\n",
    "        test_x_value = 10\n",
    "        test_y_value = 20\n",
    "        self.assertEqual(do_addition_1(test_x_value, test_y_value), 30, \"Equal to 30\")\n",
    "\n",
    "    def test_do_addition_2(self):\n",
    "        ''' \n",
    "        Testing on do_addition_2() function\n",
    "        '''\n",
    "        test_x_value = 10\n",
    "        test_y_value = 20\n",
    "        self.assertEqual(do_addition_2(test_x_value, test_y_value), 30, \"Equal to 30\")        \n",
    "\n",
    "if __name__ == \"__main__\":\n",
    "    ##### Executing TestCases From Main Function #####\n",
    "    unittest.main(argv=['ignored', '-v'], exit=False)"
   ]
  },
  {
   "cell_type": "code",
   "execution_count": 6,
   "metadata": {},
   "outputs": [
    {
     "name": "stdout",
     "output_type": "stream",
     "text": [
      "test_do_addition_1 (__main__.ExampleTestCase) ... ok\n",
      "test_do_addition_2 (__main__.ExampleTestCase) ... FAIL\n",
      "\n",
      "======================================================================\n",
      "FAIL: test_do_addition_2 (__main__.ExampleTestCase)\n",
      "----------------------------------------------------------------------\n",
      "Traceback (most recent call last):\n",
      "  File \"testcase_example.py\", line 41, in test_do_addition_2\n",
      "    self.assertEqual(do_addition_2(test_x_value, test_y_value), 30, \"Equal to 30\")\n",
      "AssertionError: 200 != 30 : Equal to 30\n",
      "\n",
      "----------------------------------------------------------------------\n",
      "Ran 2 tests in 0.001s\n",
      "\n",
      "FAILED (failures=1)\n"
     ]
    }
   ],
   "source": [
    "##### Executing TestCases From Terminal #####\n",
    "# !python -m unittest ExampleTestCase -v\n",
    "!python testcase_example.py"
   ]
  },
  {
   "cell_type": "markdown",
   "metadata": {},
   "source": [
    "#### `Reference Links`\n",
    "- https://www.learnpython.dev/03-intermediate-python/70-tests/50-writing-tests/\n",
    "- https://pymbook.readthedocs.io/en/latest/testing.html\n",
    "- https://www.digitalocean.com/community/tutorials/how-to-use-unittest-to-write-a-test-case-for-a-function-in-python\n",
    "- https://www.geeksforgeeks.org/unit-testing-python-unittest/"
   ]
  }
 ],
 "metadata": {
  "interpreter": {
   "hash": "40d3a090f54c6569ab1632332b64b2c03c39dcf918b08424e98f38b5ae0af88f"
  },
  "kernelspec": {
   "display_name": "Python 3.7.4 64-bit ('base': conda)",
   "name": "python3"
  },
  "language_info": {
   "codemirror_mode": {
    "name": "ipython",
    "version": 3
   },
   "file_extension": ".py",
   "mimetype": "text/x-python",
   "name": "python",
   "nbconvert_exporter": "python",
   "pygments_lexer": "ipython3",
   "version": "3.7.4"
  },
  "orig_nbformat": 4
 },
 "nbformat": 4,
 "nbformat_minor": 2
}
