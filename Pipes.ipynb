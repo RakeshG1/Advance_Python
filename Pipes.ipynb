{
 "cells": [
  {
   "cell_type": "markdown",
   "metadata": {},
   "source": [
    "#### `Import Libraries`"
   ]
  },
  {
   "cell_type": "code",
   "execution_count": 53,
   "metadata": {},
   "outputs": [],
   "source": [
    "import pandas as pd\n",
    "import numpy as np\n",
    "from pipe import select, where, chain, traverse, groupby, dedup"
   ]
  },
  {
   "cell_type": "code",
   "execution_count": 10,
   "metadata": {},
   "outputs": [
    {
     "name": "stdout",
     "output_type": "stream",
     "text": [
      "Collecting pipe\n",
      "  Downloading https://files.pythonhosted.org/packages/50/aa/2c7d8e1131d709d009deb9919c29ee8b1e1b2997034cbd4a440fddbf1d3e/pipe-1.6.0-py2.py3-none-any.whl\n",
      "Installing collected packages: pipe\n",
      "Successfully installed pipe-1.6.0\n"
     ]
    }
   ],
   "source": [
    "!pip install pipe"
   ]
  },
  {
   "cell_type": "markdown",
   "metadata": {},
   "source": [
    "#### `Old Code Standards Using - Map & Filters`\n",
    "- map and filter are two efficient Python methods to work with iterables. However, the code can look messy if you use both map and filter at the same time."
   ]
  },
  {
   "cell_type": "markdown",
   "metadata": {},
   "source": [
    "- `Filter`"
   ]
  },
  {
   "cell_type": "code",
   "execution_count": 6,
   "metadata": {},
   "outputs": [
    {
     "data": {
      "text/plain": [
       "[2, 4]"
      ]
     },
     "execution_count": 6,
     "metadata": {},
     "output_type": "execute_result"
    }
   ],
   "source": [
    "arr = [1, 2, 3, 4, 5]\n",
    "##### filter selects only condition matched values from list #####\n",
    "arr_1 = list(filter(lambda x: x % 2 == 0, arr))\n",
    "arr_1"
   ]
  },
  {
   "cell_type": "markdown",
   "metadata": {},
   "source": [
    "- `Map`"
   ]
  },
  {
   "cell_type": "code",
   "execution_count": 8,
   "metadata": {},
   "outputs": [
    {
     "data": {
      "text/plain": [
       "[200, 400]"
      ]
     },
     "execution_count": 8,
     "metadata": {},
     "output_type": "execute_result"
    }
   ],
   "source": [
    "arr = [1, 2, 3, 4, 5]\n",
    "##### map makes left argument action on filtered items of 2nd argument  #####\n",
    "arr_1 = list(map(lambda x: x * 100, filter(lambda x: x % 2 == 0, arr)))\n",
    "arr_1"
   ]
  },
  {
   "cell_type": "markdown",
   "metadata": {},
   "source": [
    "#### `New Code Standards Using - Pipe`\n",
    "- **What is Pipe ?** : A pipe (|) passes the results of one method to another method. \n",
    "- I like Pipe because it makes my code look cleaner when applying multiple methods to a Python iterable. \n",
    "  - `Where` — where method filters Elements in an Iterable\n",
    "  - `Select` - select method is similar to the map method. select applies a method to each element of an iterable."
   ]
  },
  {
   "cell_type": "markdown",
   "metadata": {},
   "source": [
    "- `Where`"
   ]
  },
  {
   "cell_type": "code",
   "execution_count": 14,
   "metadata": {},
   "outputs": [
    {
     "data": {
      "text/plain": [
       "[2, 4]"
      ]
     },
     "execution_count": 14,
     "metadata": {},
     "output_type": "execute_result"
    }
   ],
   "source": [
    "arr = [1, 2, 3, 4, 5]\n",
    "list(arr | where(lambda x: x % 2 == 0 ))"
   ]
  },
  {
   "cell_type": "markdown",
   "metadata": {},
   "source": [
    "- `Select`"
   ]
  },
  {
   "cell_type": "code",
   "execution_count": 15,
   "metadata": {},
   "outputs": [
    {
     "data": {
      "text/plain": [
       "[100, 200, 300, 400, 500]"
      ]
     },
     "execution_count": 15,
     "metadata": {},
     "output_type": "execute_result"
    }
   ],
   "source": [
    "arr = [1, 2, 3, 4, 5]\n",
    "list(arr | select(lambda x: x * 100 ))"
   ]
  },
  {
   "cell_type": "markdown",
   "metadata": {},
   "source": [
    "- `where + select`"
   ]
  },
  {
   "cell_type": "code",
   "execution_count": 16,
   "metadata": {},
   "outputs": [
    {
     "data": {
      "text/plain": [
       "[200, 400]"
      ]
     },
     "execution_count": 16,
     "metadata": {},
     "output_type": "execute_result"
    }
   ],
   "source": [
    "arr = [1, 2, 3, 4, 5]\n",
    "list(arr | where(lambda x: x % 2 == 0 )\n",
    "         | select(lambda x: x * 100 ))"
   ]
  },
  {
   "cell_type": "markdown",
   "metadata": {},
   "source": [
    "- `chain`\n",
    "  - It can be a pain to work with a nested iterable. Luckily, you can use chain to chain a sequence of iterables.\n",
    "  - It can avoid lot of multi nested codes to undo nested list"
   ]
  },
  {
   "cell_type": "code",
   "execution_count": 41,
   "metadata": {},
   "outputs": [
    {
     "name": "stdout",
     "output_type": "stream",
     "text": [
      "Shallow Undoing Nested Lists :  [1, 2, [3], 4, 5, 6]\n"
     ]
    }
   ],
   "source": [
    "nested = [[1, 2, [3]], [4], [5, 6]]\n",
    "print(\"Shallow Undoing Nested Lists : \",list(nested | chain))"
   ]
  },
  {
   "cell_type": "markdown",
   "metadata": {},
   "source": [
    "- To deal with a deeply nested list, we can use traverse instead\n",
    "- `traverse` — Recursively Unfold Iterables\n",
    "  - use this method to turn a deeply nested list into a flat list."
   ]
  },
  {
   "cell_type": "code",
   "execution_count": 42,
   "metadata": {},
   "outputs": [
    {
     "name": "stdout",
     "output_type": "stream",
     "text": [
      "Undoing Nested Lists :  [1, 2, 3, 4, 5, 6]\n"
     ]
    }
   ],
   "source": [
    "nested = [[1, 2, [3]], [4], [5, 6]]\n",
    "print(\"Undoing Nested Lists : \",list(nested | traverse))"
   ]
  },
  {
   "cell_type": "markdown",
   "metadata": {},
   "source": [
    "- `select + traverse`"
   ]
  },
  {
   "cell_type": "code",
   "execution_count": 40,
   "metadata": {},
   "outputs": [
    {
     "name": "stdout",
     "output_type": "stream",
     "text": [
      "Getting Dictionary Fruits Name :  ['Apple', 'Mango', 'Strawberry', 'Orange', 'Grapes']\n",
      "Getting Dictionary Price Values Which is Nested Lists :  [[40], [80, 100], [80], [35], [40]]\n",
      "Getting Dictionary Price Values & Undoing Nested Lists :  [40, 80, 100, 80, 35, 40]\n"
     ]
    }
   ],
   "source": [
    "fruits_dictr = [{\"Name\":\"Apple\", \"Price\":[40]},\n",
    "                {\"Name\":\"Mango\", \"Price\":[80, 100]},\n",
    "                {\"Name\":\"Strawberry\", \"Price\":[80]},\n",
    "                {\"Name\":\"Orange\", \"Price\":[35]},\n",
    "                {\"Name\":\"Grapes\", \"Price\":[40]}]\n",
    "\n",
    "print(\"Getting Dictionary Fruits Name : \", list(fruits_dictr | select(lambda fruit : fruit[\"Name\"])))\n",
    "print(\"Getting Dictionary Price Values Which is Nested Lists : \", list(fruits_dictr | select(lambda fruit : fruit[\"Price\"])))\n",
    "print(\"Getting Dictionary Price Values & Undoing Nested Lists : \", list(fruits_dictr | select(lambda fruit : fruit[\"Price\"]) \\\n",
    "                                                                                     | traverse))"
   ]
  },
  {
   "cell_type": "markdown",
   "metadata": {},
   "source": [
    "- `Without Pipe getting Dictionary Key & Value`"
   ]
  },
  {
   "cell_type": "code",
   "execution_count": 33,
   "metadata": {},
   "outputs": [
    {
     "name": "stdout",
     "output_type": "stream",
     "text": [
      "Dictionary Keys :  ['Name', 'Price']\n",
      "First Dictionary Item [Name] :  Apple\n",
      "First Dictionary Item [Price] :  [40]\n"
     ]
    }
   ],
   "source": [
    "print(\"Dictionary Keys : \", list(fruits_dictr[0].keys()))\n",
    "print(\"First Dictionary Item [Name] : \", fruits_dictr[0][\"Name\"])\n",
    "print(\"First Dictionary Item [Price] : \", fruits_dictr[0][\"Price\"])"
   ]
  },
  {
   "cell_type": "markdown",
   "metadata": {},
   "source": [
    "- `groupby`\n",
    "  - group elements in a list"
   ]
  },
  {
   "cell_type": "code",
   "execution_count": 44,
   "metadata": {},
   "outputs": [
    {
     "data": {
      "text/plain": [
       "[('Even', <itertools._grouper at 0x7f954637e6d0>),\n",
       " ('Odd', <itertools._grouper at 0x7f954637e0d0>)]"
      ]
     },
     "execution_count": 44,
     "metadata": {},
     "output_type": "execute_result"
    }
   ],
   "source": [
    "list(\n",
    "    (1,2,3,4,5,6,7,8,9)\n",
    "    | groupby(lambda x: \"Even\" if x%2==0 else \"Odd\")\n",
    ")"
   ]
  },
  {
   "cell_type": "code",
   "execution_count": 47,
   "metadata": {},
   "outputs": [
    {
     "data": {
      "text/plain": [
       "['Even', 'Odd']"
      ]
     },
     "execution_count": 47,
     "metadata": {},
     "output_type": "execute_result"
    }
   ],
   "source": [
    "list(\n",
    "    (1,2,3,4,5,6,7,8,9)\n",
    "    | groupby(lambda x: \"Even\" if x%2==0 else \"Odd\")\n",
    "    | select(lambda x: x[0])\n",
    ")"
   ]
  },
  {
   "cell_type": "code",
   "execution_count": 50,
   "metadata": {},
   "outputs": [
    {
     "data": {
      "text/plain": [
       "[[2, 4, 6, 8], [1, 3, 5, 7, 9]]"
      ]
     },
     "execution_count": 50,
     "metadata": {},
     "output_type": "execute_result"
    }
   ],
   "source": [
    "list(\n",
    "    (1,2,3,4,5,6,7,8,9)\n",
    "    | groupby(lambda x: \"Even\" if x%2==0 else \"Odd\")\n",
    "    | select(lambda x: list(x[1])) # Looping through nested list of odd & even\n",
    ")"
   ]
  },
  {
   "cell_type": "code",
   "execution_count": 52,
   "metadata": {},
   "outputs": [
    {
     "data": {
      "text/plain": [
       "[{'Even': [2, 4, 6, 8]}, {'Odd': [1, 3, 5, 7, 9]}]"
      ]
     },
     "execution_count": 52,
     "metadata": {},
     "output_type": "execute_result"
    }
   ],
   "source": [
    "list(\n",
    "    (1,2,3,4,5,6,7,8,9)\n",
    "    | groupby(lambda x: \"Even\" if x%2==0 else \"Odd\") # groupby to group numbers into theEven group and theOdd group\n",
    "    | select(lambda x: {x[0]: list(x[1])}) # list of tuples into a list of dictionaries\n",
    ")"
   ]
  },
  {
   "cell_type": "markdown",
   "metadata": {},
   "source": [
    "- `dedup`\n",
    "  - dedup method removes duplicates in a list."
   ]
  },
  {
   "cell_type": "code",
   "execution_count": 54,
   "metadata": {},
   "outputs": [
    {
     "data": {
      "text/plain": [
       "[1, 2, 3, 4, 6, 7, 8]"
      ]
     },
     "execution_count": 54,
     "metadata": {},
     "output_type": "execute_result"
    }
   ],
   "source": [
    "arr = [1, 1, 2, 3, 4, 4, 6, 7, 7, 8]\n",
    "list(arr | dedup)"
   ]
  },
  {
   "cell_type": "markdown",
   "metadata": {},
   "source": [
    "- `set - without pipe`"
   ]
  },
  {
   "cell_type": "code",
   "execution_count": 55,
   "metadata": {},
   "outputs": [
    {
     "data": {
      "text/plain": [
       "{1, 2, 3, 4, 6, 7, 8}"
      ]
     },
     "execution_count": 55,
     "metadata": {},
     "output_type": "execute_result"
    }
   ],
   "source": [
    "arr = [1, 1, 2, 3, 4, 4, 6, 7, 7, 8]\n",
    "set(arr)"
   ]
  },
  {
   "cell_type": "markdown",
   "metadata": {},
   "source": [
    "- get a unique element that is smaller than 5 and another unique element that is larger than or equal to 5."
   ]
  },
  {
   "cell_type": "code",
   "execution_count": 57,
   "metadata": {},
   "outputs": [
    {
     "data": {
      "text/plain": [
       "[1, 2, 3, 4, 6, 7, 8]"
      ]
     },
     "execution_count": 57,
     "metadata": {},
     "output_type": "execute_result"
    }
   ],
   "source": [
    "arr = [1, 1, 2, 3, 4, 4, 6, 7, 7, 8]\n",
    "list(arr | dedup(lambda key : key))"
   ]
  },
  {
   "cell_type": "code",
   "execution_count": 58,
   "metadata": {},
   "outputs": [
    {
     "data": {
      "text/plain": [
       "[1, 2]"
      ]
     },
     "execution_count": 58,
     "metadata": {},
     "output_type": "execute_result"
    }
   ],
   "source": [
    "list(arr | dedup(lambda key : key < 2))"
   ]
  },
  {
   "cell_type": "code",
   "execution_count": 74,
   "metadata": {},
   "outputs": [
    {
     "data": {
      "text/plain": [
       "[{'Name': 'Apple', 'Price': 40},\n",
       " {'Name': 'Mango', 'Price': 80},\n",
       " {'Name': 'Strawberry', 'Price': 80},\n",
       " {'Name': 'Orange', 'Price': 35},\n",
       " {'Name': 'Grapes', 'Price': 40}]"
      ]
     },
     "execution_count": 74,
     "metadata": {},
     "output_type": "execute_result"
    }
   ],
   "source": [
    "fruits_dictr = [{\"Name\":\"Apple\", \"Price\":40},\n",
    "                {\"Name\":\"Apple\", \"Price\":45},\n",
    "                {\"Name\":\"Mango\", \"Price\":80},\n",
    "                {\"Name\":\"Strawberry\", \"Price\":80},\n",
    "                {\"Name\":\"Orange\", \"Price\":35},\n",
    "                {\"Name\":\"Grapes\", \"Price\":40}]\n",
    "\n",
    "list(fruits_dictr\n",
    "     | dedup(key=lambda fruit: fruit[\"Name\"]))                "
   ]
  },
  {
   "cell_type": "code",
   "execution_count": 75,
   "metadata": {},
   "outputs": [
    {
     "data": {
      "text/plain": [
       "[40, 80, 80, 35, 40]"
      ]
     },
     "execution_count": 75,
     "metadata": {},
     "output_type": "execute_result"
    }
   ],
   "source": [
    "list(fruits_dictr\n",
    "     | dedup(key=lambda fruit: fruit[\"Name\"])\n",
    "     | select(lambda fruit: fruit[\"Price\"]))                "
   ]
  },
  {
   "cell_type": "code",
   "execution_count": 76,
   "metadata": {},
   "outputs": [
    {
     "data": {
      "text/plain": [
       "[80, 160, 160, 70, 80]"
      ]
     },
     "execution_count": 76,
     "metadata": {},
     "output_type": "execute_result"
    }
   ],
   "source": [
    "list(fruits_dictr\n",
    "     | dedup(key=lambda fruit: fruit[\"Name\"])\n",
    "     | select(lambda fruit: fruit[\"Price\"]*2)) "
   ]
  },
  {
   "cell_type": "code",
   "execution_count": 77,
   "metadata": {},
   "outputs": [
    {
     "data": {
      "text/plain": [
       "[40, 80, 80, 35, 40]"
      ]
     },
     "execution_count": 77,
     "metadata": {},
     "output_type": "execute_result"
    }
   ],
   "source": [
    "list(fruits_dictr\n",
    "     | dedup(key=lambda fruit: fruit[\"Name\"])\n",
    "     | select(lambda fruit: fruit[\"Price\"])\n",
    "     | where(lambda price: isinstance(price, int))) "
   ]
  },
  {
   "cell_type": "code",
   "execution_count": 78,
   "metadata": {},
   "outputs": [
    {
     "data": {
      "text/plain": [
       "[80, 80]"
      ]
     },
     "execution_count": 78,
     "metadata": {},
     "output_type": "execute_result"
    }
   ],
   "source": [
    "list(fruits_dictr\n",
    "     | dedup(key=lambda fruit: fruit[\"Name\"])\n",
    "     | select(lambda fruit: fruit[\"Price\"])\n",
    "     | where(lambda price: price >= 80)) "
   ]
  }
 ],
 "metadata": {
  "interpreter": {
   "hash": "40d3a090f54c6569ab1632332b64b2c03c39dcf918b08424e98f38b5ae0af88f"
  },
  "kernelspec": {
   "display_name": "Python 3.7.4 64-bit ('base': conda)",
   "name": "python3"
  },
  "language_info": {
   "codemirror_mode": {
    "name": "ipython",
    "version": 3
   },
   "file_extension": ".py",
   "mimetype": "text/x-python",
   "name": "python",
   "nbconvert_exporter": "python",
   "pygments_lexer": "ipython3",
   "version": "3.7.4"
  },
  "orig_nbformat": 4
 },
 "nbformat": 4,
 "nbformat_minor": 2
}
