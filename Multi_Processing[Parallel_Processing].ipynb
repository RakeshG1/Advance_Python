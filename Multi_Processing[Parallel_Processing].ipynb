{
 "cells": [
  {
   "cell_type": "markdown",
   "metadata": {},
   "source": [
    "- `Import Libraries`"
   ]
  },
  {
   "cell_type": "code",
   "execution_count": 31,
   "metadata": {},
   "outputs": [],
   "source": [
    "import multiprocessing\n",
    "import os\n",
    "import time"
   ]
  },
  {
   "cell_type": "markdown",
   "metadata": {},
   "source": [
    "- `Number of Cores in System`"
   ]
  },
  {
   "cell_type": "code",
   "execution_count": 4,
   "metadata": {},
   "outputs": [
    {
     "name": "stdout",
     "output_type": "stream",
     "text": [
      "Number of CPU Cores:  4\n"
     ]
    }
   ],
   "source": [
    "print(\"Number of CPU Cores: \", multiprocessing.cpu_count())"
   ]
  },
  {
   "cell_type": "markdown",
   "metadata": {},
   "source": [
    "- `Process : To Invoke Individual Process & Do Some Task`\n",
    "- `Join Function : Used to Terminate Process`"
   ]
  },
  {
   "cell_type": "code",
   "execution_count": 25,
   "metadata": {},
   "outputs": [
    {
     "name": "stdout",
     "output_type": "stream",
     "text": [
      "Main Process ID : 4907\n",
      "ProcessId: 5056, Fruit Name: Apple\n",
      "ProcessId: 5057, Fruit Name: Mango\n",
      "------------------------------\n",
      "Before Process Termination\n",
      "------------------------------\n",
      "Is Child Process[p1] Alive: True\n",
      "Is Child Process[p1] Alive: True\n",
      "------------------------------\n",
      "After Process Termination\n",
      "------------------------------\n",
      "Is Child Process[p1] Alive: False\n",
      "Is Child Process[p1] Alive: False\n"
     ]
    }
   ],
   "source": [
    "def display_fruit(fruit_name):\n",
    "    print(\"ProcessId: {}, Fruit Name: {}\".format(os.getpid(), fruit_name))\n",
    "\n",
    "if __name__ == \"__main__\":\n",
    "    fruits_list = [\"Apple\", \"Banana\", \"Grapes\", \"Mango\"]\n",
    "    print(\"Main Process ID : {}\".format(os.getpid()))\n",
    "\n",
    "    # Creating Child Process\n",
    "    p1 = multiprocessing.Process(target=display_fruit, args=(\"Apple\",))\n",
    "    p2 = multiprocessing.Process(target=display_fruit, args=(\"Mango\",))\n",
    "\n",
    "    # Starting Child Processes\n",
    "    p1.start()\n",
    "    p2.start()\n",
    "    print(\"--\"*15)\n",
    "    print(\"Before Process Termination\")\n",
    "    print(\"--\"*15)    \n",
    "    print(\"Is Child Process[p1] Alive: {}\".format(p1.is_alive()))\n",
    "    print(\"Is Child Process[p2] Alive: {}\".format(p2.is_alive()))\n",
    "\n",
    "    # Terminates Child Process\n",
    "    p1.join()\n",
    "    p2.join()\n",
    "    print(\"--\"*15)\n",
    "    print(\"After Process Termination\")\n",
    "    print(\"--\"*15)\n",
    "    print(\"Is Child Process[p1] Alive: {}\".format(p1.is_alive()))\n",
    "    print(\"Is Child Process[p2] Alive: {}\".format(p2.is_alive()))    "
   ]
  },
  {
   "cell_type": "markdown",
   "metadata": {},
   "source": [
    "- `Queue Function : Used to Store data like First-In-First-Out object & can be shared between process`"
   ]
  },
  {
   "cell_type": "code",
   "execution_count": 29,
   "metadata": {},
   "outputs": [
    {
     "name": "stdout",
     "output_type": "stream",
     "text": [
      "----------------------------------------\n",
      "Inserting/Pushing Fruits Into Queue Object\n",
      "----------------------------------------\n",
      "Fruit Number : 0, Fruit Name Apple\n",
      "Fruit Number : 1, Fruit Name Banana\n",
      "Fruit Number : 2, Fruit Name Grapes\n",
      "Fruit Number : 3, Fruit Name Mango\n",
      "----------------------------------------\n",
      "Taking/Popping Out Fruits From Queue Object\n",
      "----------------------------------------\n",
      "Fruit Number : 0, Fruit Name Apple\n",
      "Fruit Number : 1, Fruit Name Banana\n",
      "Fruit Number : 2, Fruit Name Grapes\n",
      "Fruit Number : 3, Fruit Name Mango\n"
     ]
    }
   ],
   "source": [
    "def display_fruit(fruit_name):\n",
    "    print(\"ProcessId: {}, Fruit Name: {}\".format(os.getpid(), fruit_name))\n",
    "\n",
    "if __name__ == \"__main__\":\n",
    "    fruits_list = [\"Apple\", \"Banana\", \"Grapes\", \"Mango\"]\n",
    "    counter = 0\n",
    "    # Initialising Queue Object\n",
    "    fruits_queue = multiprocessing.Queue()\n",
    "    print(\"--\"*20)\n",
    "    print(\"Inserting/Pushing Fruits Into Queue Object\")\n",
    "    print(\"--\"*20)\n",
    "    for fruit in fruits_list:\n",
    "        print(f\"Fruit Number : {counter}, Fruit Name {fruit}\")\n",
    "        fruits_queue.put(fruit)\n",
    "        counter += 1\n",
    "    print(\"--\"*20)\n",
    "    print(\"Taking/Popping Out Fruits From Queue Object\")\n",
    "    print(\"--\"*20)    \n",
    "    counter = 0\n",
    "    while not fruits_queue.empty():\n",
    "        print(f\"Fruit Number : {counter}, Fruit Name {fruits_queue.get()}\")\n",
    "        counter += 1"
   ]
  },
  {
   "cell_type": "markdown",
   "metadata": {},
   "source": [
    "- `Pool : Used for parallel execution of a function of given input values`\n",
    "- `where input data shared across multiple processes created by pool i.e., Data Parallelism(Like each input value is assigned to each process)`"
   ]
  },
  {
   "cell_type": "code",
   "execution_count": 36,
   "metadata": {},
   "outputs": [
    {
     "name": "stdout",
     "output_type": "stream",
     "text": [
      "Main Process ID : 4907\n",
      "Current Time Before Starting Pool Process 2022-02-03 17:57:12 \n",
      "Time: 2022-02-03 17:57:17, ProcessId: 5140, Fruit Name: Apple\n",
      "Time: 2022-02-03 17:57:22, ProcessId: 5141, Fruit Name: Banana\n",
      "Time: 2022-02-03 17:57:27, ProcessId: 5142, Fruit Name: Grapes\n",
      "Time: 2022-02-03 17:57:32, ProcessId: 5143, Fruit Name: Mango\n"
     ]
    }
   ],
   "source": [
    "def display_fruit(fruit_name):\n",
    "    if fruit_name == \"Apple\":\n",
    "        time.sleep(5)\n",
    "    if fruit_name == \"Banana\":\n",
    "        time.sleep(10)\n",
    "    if fruit_name == \"Grapes\":\n",
    "        time.sleep(15)\n",
    "    if fruit_name == \"Mango\":\n",
    "        time.sleep(20)                        \n",
    "    print(\"Time: %s, ProcessId: %s, Fruit Name: %s\" % (time.strftime(\"%Y-%m-%d %H:%M:%S\"), os.getpid(), fruit_name))\n",
    "\n",
    "if __name__ == \"__main__\":\n",
    "    fruits_list = [\"Apple\", \"Banana\", \"Grapes\", \"Mango\"]\n",
    "    print(\"Main Process ID : {}\".format(os.getpid()))\n",
    "    print(\"Current Time Before Starting Pool Process %s \" % (time.strftime(\"%Y-%m-%d %H:%M:%S\")))\n",
    "    # Creating Pool of Processes\n",
    "    pool = multiprocessing.Pool(len(fruits_list))\n",
    "    # Starting Processes in Pool\n",
    "    # Note : All Process starts at same time, but its gets completed based on its condition time sleep\n",
    "    pool.map(display_fruit, fruits_list)"
   ]
  },
  {
   "cell_type": "markdown",
   "metadata": {},
   "source": [
    "> `Observation`\n",
    "- From Current Time [`2022-02-03 17:57:12`], ProcessId: 5140, Fruit Name: Apple takes 5 seconds & completes on [`2022-02-03 17:57:17`]\n",
    "- From Current Time [`2022-02-03 17:57:12`], ProcessId: 5141, Fruit Name: Apple takes 10 seconds & completes on [`2022-02-03 17:57:22`]\n",
    "- From Current Time [`2022-02-03 17:57:12`], ProcessId: 5142, Fruit Name: Apple takes 15 seconds & completes on [`2022-02-03 17:57:27`]\n",
    "- From Current Time [`2022-02-03 17:57:12`], ProcessId: 5143, Fruit Name: Apple takes 20 seconds & completes on [`2022-02-03 17:57:32`]"
   ]
  }
 ],
 "metadata": {
  "interpreter": {
   "hash": "40d3a090f54c6569ab1632332b64b2c03c39dcf918b08424e98f38b5ae0af88f"
  },
  "kernelspec": {
   "display_name": "Python 3.7.4 64-bit ('base': conda)",
   "name": "python3"
  },
  "language_info": {
   "codemirror_mode": {
    "name": "ipython",
    "version": 3
   },
   "file_extension": ".py",
   "mimetype": "text/x-python",
   "name": "python",
   "nbconvert_exporter": "python",
   "pygments_lexer": "ipython3",
   "version": "3.7.4"
  },
  "orig_nbformat": 4
 },
 "nbformat": 4,
 "nbformat_minor": 2
}
